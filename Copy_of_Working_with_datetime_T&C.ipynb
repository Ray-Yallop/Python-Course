{
  "nbformat": 4,
  "nbformat_minor": 0,
  "metadata": {
    "colab": {
      "provenance": [],
      "include_colab_link": true
    },
    "kernelspec": {
      "name": "python3",
      "display_name": "Python 3"
    },
    "language_info": {
      "name": "python"
    }
  },
  "cells": [
    {
      "cell_type": "markdown",
      "metadata": {
        "id": "view-in-github",
        "colab_type": "text"
      },
      "source": [
        "<a href=\"https://colab.research.google.com/github/Ray-Yallop/Python-Course/blob/main/Copy_of_Working_with_datetime_T%26C.ipynb\" target=\"_parent\"><img src=\"https://colab.research.google.com/assets/colab-badge.svg\" alt=\"Open In Colab\"/></a>"
      ]
    },
    {
      "cell_type": "markdown",
      "metadata": {
        "id": "7iQyKP-SQiw1"
      },
      "source": [
        "# User-defined functions using datetime library\n",
        "\n",
        "---\n"
      ]
    },
    {
      "cell_type": "markdown",
      "metadata": {
        "id": "Vi93h5I4QnKs"
      },
      "source": [
        "When working with dates and times, fairly common in data sets, we need to be able to extract certain bits of information.  \n",
        "\n",
        "In Python, as with other languages, dates and times are stored in a data structure that combines the two together and stores the information as a number of seconds since a start point (often 1st January 1900).  This is obviously a large number but every bit of information about a date can be extracted from it and used to give a wide range of information.  \n",
        "\n",
        "Have a go at the exercises below to use a selection of datetime functions and return a new bit of data from each, to be printed by the caller.\n",
        "\n",
        "Before you can use datetime functions you will need to import them. Import the datetime functions like this:\n",
        "\n",
        "`from datetime import datetime`  \n",
        "\n",
        "\n",
        "For more information about datetime functions visit [w3Schools-Python datetime](https://www.w3schools.com/python/python_datetime.asp) and [Python docs](https://docs.python.org/3/library/datetime.html)"
      ]
    },
    {
      "cell_type": "markdown",
      "metadata": {
        "id": "MIDLi7CNR034"
      },
      "source": [
        "---\n",
        "### Exercise 1 - print current date and time\n",
        "\n",
        "Write a function that will return the date and time now.  The caller will print it.  \n",
        "\n",
        "*Hint:  the format has been added for you, the other exercises will follow a similar format.   Always remember to import datetime from datetime as shown below*"
      ]
    },
    {
      "cell_type": "code",
      "metadata": {
        "id": "gS6GJdXbQfHp"
      },
      "source": [
        "from datetime import datetime, timezone\n",
        "# add your function, called get_datetime_now() below here\n",
        "def get_datetime_now():\n",
        "  import datetime\n",
        "  \n",
        "  now_date_time = 0   \n",
        "  now_date_time = datetime.datetime.now()\n",
        "  print(now_date_time)\n",
        "get_datetime_now()"
      ],
      "execution_count": null,
      "outputs": []
    },
    {
      "cell_type": "markdown",
      "metadata": {
        "id": "Yy24sL0bUtpF"
      },
      "source": [
        "---\n",
        "Exercise 2 - print the current year\n",
        "\n",
        "Write a function that will return the current year.  The caller will print the year."
      ]
    },
    {
      "cell_type": "code",
      "metadata": {
        "id": "nN1-HE7xJ8Ng"
      },
      "source": [
        "from datetime import datetime, timezone\n",
        "# add your function, called get_datetime_now() below here\n",
        "def get_year_now():\n",
        "  import datetime\n",
        "  now_date_time = 0   \n",
        "  now_date_time = datetime.datetime.now()\n",
        "  print(now_date_time.year) # get year\n",
        "get_year_now()"
      ],
      "execution_count": null,
      "outputs": []
    },
    {
      "cell_type": "markdown",
      "metadata": {
        "id": "FzSVCaJKV1O1"
      },
      "source": [
        "---\n",
        "### Exercise 3 - print the current day of the week\n",
        "\n",
        "Write a function that will return the current day of the week.  The caller will print it."
      ]
    },
    {
      "cell_type": "code",
      "metadata": {
        "id": "OP4ZIXBWV1Yj"
      },
      "source": [
        "from datetime import datetime, timezone\n",
        "# add your function, called get_datetime_now() below here\n",
        "def get_day_of_week_now():\n",
        "  import datetime\n",
        "  \n",
        "  now_date_time = 0   \n",
        "  now_date_time = datetime.datetime.now()\n",
        "  print(now_date_time.strftime(\"%A\")) # day of week\n",
        "get_day_of_week_now()"
      ],
      "execution_count": null,
      "outputs": []
    },
    {
      "cell_type": "markdown",
      "metadata": {
        "id": "a8euCtdmWIDE"
      },
      "source": [
        "---\n",
        "### Exercise 4 - create a new date\n",
        "\n",
        "When new notices are added to the app, an end date will be added so that the notice is not displayed after its expiry date.  Write a function that will take 3 parameters, year, month, day (3 numbers that make a valid date) and will create, and return a new date.  The caller will print the date."
      ]
    },
    {
      "cell_type": "code",
      "metadata": {
        "id": "FbOFnTwnWILN"
      },
      "source": [
        "from datetime import datetime, timezone\n",
        "# add your function, called get_datetime_now() below here\n",
        "def get_new_date(year,month,day):\n",
        "  import datetime\n",
        "  \n",
        "  date = 0\n",
        "  date = datetime.datetime(year,month,day)  # Date formated \n",
        "  print(date)\n",
        "\n",
        "get_new_date(2023,5,25)"
      ],
      "execution_count": null,
      "outputs": []
    },
    {
      "cell_type": "markdown",
      "metadata": {
        "id": "f5SKVuE0WfcE"
      },
      "source": [
        "---\n",
        "### Exercise 5 - create a valid date\n",
        "\n",
        "Write a function to test that the given date is valid for new notices.  The function will take 3 parameters, year, month, day (3 numbers) and will:  \n",
        "*   check that the month is between 1 and 12  \n",
        "*   check that the day is valid for the month (e.g. if the month is 2, then the day must be between 1 and 28 (don't worry about leap years for the moment)  \n",
        "*   if the date is not valid, print an error message and return None (which the caller will print)  \n",
        "*   if the date is valid, store it in a new variable, return the variable and the caller will print it."
      ]
    },
    {
      "cell_type": "code",
      "metadata": {
        "id": "gclt-f9-XfdG"
      },
      "source": [
        "from datetime import datetime, timezone\n",
        "def get_check_date(year,month,day):\n",
        "  import datetime\n",
        "\n",
        "  mth_list = [4, 6, 9, 11] #30 day months \n",
        "  mth_nar= [\"Dummy\",\"Jan\",\"Feb\", \"Mar\",\"Apr\",\"May\",\"Jun\",\"Jly\", \"Aug\",\"Sep\",\"Oct\",\"Nov\",\"Dec\"]\n",
        "  message = \"\"\n",
        "  date = 0\n",
        "\n",
        "  if  month > 12 or month ==  0:  # Invalid month > 12 or = 0\n",
        "    message = (str(month) + \" invalid month\")\n",
        "  elif day > 31:                  # Invalid day > 31\n",
        "    message = (str(day) + \" invalid day\")\n",
        "  # Validate month / day\n",
        "  elif (month == 2 and day > 28) or (month in mth_list and day > 30):\n",
        "    message = (str(day) + \" invalid for month \" + str(mth_nar[month]))\n",
        "  else:                           # Valid date\n",
        "    date = datetime.datetime(year,month,day)  # Date formated \n",
        "    print(date)\n",
        "  print(message)\n",
        "\n",
        "#get_check_date(2023,2,28)\n",
        "get_check_date(2023,2,29)"
      ],
      "execution_count": null,
      "outputs": []
    },
    {
      "cell_type": "markdown",
      "metadata": {
        "id": "9BuRDi08YAO0"
      },
      "source": [
        "---\n",
        "### Exercise 6 - display parts of date/time\n",
        "\n",
        "Write a function that will take a date and print from it the following:  \n",
        "*  given date and time  \n",
        "*  year (in full) \n",
        "*  month (as a number) \n",
        "*  month name \n",
        "*  week number of the year  \n",
        "*  weekday of the week (as a number)  \n",
        "*  day of year  \n",
        "*  day of the month  \n",
        "*  day of week (as a name)  \n",
        "\n",
        "*Hint:  see w3Schools for [strftime reference](https://www.w3schools.com/python/python_datetime.asp)*\n",
        "\n"
      ]
    },
    {
      "cell_type": "code",
      "metadata": {
        "id": "zl-37Ez9ahym",
        "colab": {
          "base_uri": "https://localhost:8080/"
        },
        "outputId": "7d77f71c-515f-47de-893d-5ea98ed384da"
      },
      "source": [
        "from datetime import datetime, timezone\n",
        "def display_date_or_time():\n",
        "  import datetime\n",
        "  \n",
        "  now_date_time = 0   \n",
        "  now_date_time = datetime.datetime.now() # Current date time\n",
        "  print(now_date_time)\n",
        "  print(now_date_time.strftime(\"%Y\"))   # Year\n",
        "  print(now_date_time.strftime(\"%m\"))   # Month number\n",
        "  print(now_date_time.strftime(\"%B\"))   # Month name\n",
        "  print(now_date_time.strftime(\"%V\"))   # Week number of the year - ISO 8601 \n",
        "  print(now_date_time.strftime(\"%u\"))   # Weekday of the week - ISO 8601\n",
        "  print(now_date_time.strftime(\"%j\"))   # Day of year\n",
        "  print(now_date_time.strftime(\"%d\"))   # Day of the month\n",
        "  print(now_date_time.strftime(\"%A\"))   # Day of week (as a name)\n",
        "display_date_or_time()"
      ],
      "execution_count": null,
      "outputs": [
        {
          "output_type": "stream",
          "name": "stdout",
          "text": [
            "2023-05-26 08:04:20.499314\n",
            "2023\n",
            "05\n",
            "May\n",
            "21\n",
            "5\n",
            "146\n",
            "26\n",
            "Friday\n"
          ]
        }
      ]
    },
    {
      "cell_type": "markdown",
      "metadata": {
        "id": "_rpTIoSDaiBj"
      },
      "source": [
        "---\n",
        "### Exercise 7 - How many days live?\n",
        "\n",
        "Write a function called **calc_days_notice_valid** that will calculate how many days a notice is valid for (and therefore should be live / displayed).  It will:\n",
        "\n",
        "* automatically generate a **notice_loaded** date (today's date)\n",
        "* pass a day, month, year into the function when it is run \n",
        "* generate a date **end_date** using the datetime function and the day,month,year parameters\n",
        "* calculate and return the number of days that the notice is **live** for.\n",
        "\n",
        "**Sample Input**\n",
        "calc_days_notice_valid(29/06/2023)\n",
        "\n",
        "**Expected Output**\n",
        "If entry date was 24/5/2023:\n",
        "4 days\n"
      ]
    },
    {
      "cell_type": "code",
      "metadata": {
        "id": "1d-oXqLLb0vX"
      },
      "source": [
        "from datetime import datetime, timezone\n",
        "def calc_days_notice_valid(year,month,day):\n",
        "  import datetime\n",
        "\n",
        "  notice_loaded = 0 # Todays date\n",
        "  end_date = 0      # End date\n",
        "  Wrk_days = 0      # Number of days\n",
        "  message = [] \n",
        " \n",
        "  notice_loaded = datetime.datetime.now()       # Current date time \n",
        "  end_date = datetime.datetime(year,month,day)  # End date formated   \n",
        "  Wrk_days = end_date - notice_loaded           # Number of d#ays\n",
        "\n",
        "  if end_date >= notice_loaded:\n",
        "    message = (\"Notice valid for \" + str(Wrk_days.days) + \" days.\")\n",
        "  else:\n",
        "    message = \"Date out of range.\"\n",
        "\n",
        "  print(message)\n",
        "\n",
        "#calc_days_notice_valid(2022,6,29)\n",
        "calc_days_notice_valid(2023,6,29)"
      ],
      "execution_count": null,
      "outputs": []
    }
  ]
}