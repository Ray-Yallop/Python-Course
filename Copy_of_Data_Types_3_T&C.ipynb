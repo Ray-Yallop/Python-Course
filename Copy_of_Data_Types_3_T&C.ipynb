{
  "nbformat": 4,
  "nbformat_minor": 0,
  "metadata": {
    "colab": {
      "provenance": [],
      "include_colab_link": true
    },
    "kernelspec": {
      "name": "python3",
      "display_name": "Python 3"
    }
  },
  "cells": [
    {
      "cell_type": "markdown",
      "metadata": {
        "id": "view-in-github",
        "colab_type": "text"
      },
      "source": [
        "<a href=\"https://colab.research.google.com/github/Ray-Yallop/Python-Course/blob/main/Copy_of_Data_Types_3_T%26C.ipynb\" target=\"_parent\"><img src=\"https://colab.research.google.com/assets/colab-badge.svg\" alt=\"Open In Colab\"/></a>"
      ]
    },
    {
      "cell_type": "markdown",
      "metadata": {
        "id": "GdT0fwTCa4gI"
      },
      "source": [
        "# Working with Strings"
      ]
    },
    {
      "cell_type": "markdown",
      "metadata": {
        "id": "ozWLM6Pfa7d_"
      },
      "source": [
        "---\n",
        "### Exercise 1 strings\n",
        "**Recap**: to assign a string to a variable, give it a value in \"  \"\n",
        "\n",
        "*variableName = \"string to be stored in variable\"*   \n",
        "\n",
        "Write a function called **print_initials()** which will:\n",
        "\n",
        "*  create a variable called **first_name** and assign it a value (see below)  \n",
        "*  create a variable called **middle_name** and assign it a value (see below) \n",
        "*  create a variable called **surname** and assign it a value (see below) \n",
        "*  creat a variable called **full_name** joining the names together in the format: `surname`, `first_name` `middle_name`  \n",
        "\n",
        "### Test  \n",
        "If first_name is assigned the value `Peter`, `middle_name` is assigned the value `Barry` and `surname` is assigned the value `Burrows` then the output will be:    \n",
        "  \n",
        "Burrows, Peter Barry\n"
      ]
    },
    {
      "cell_type": "code",
      "metadata": {
        "id": "lMJckNo-ab3z",
        "colab": {
          "base_uri": "https://localhost:8080/"
        },
        "outputId": "bc2c89b6-9c86-4e8d-8b8a-d8e2f1b4bb2a"
      },
      "source": [
        "def print_initials():\n",
        "  first_name = \"Peter\"\n",
        "  middle_name  =\"Barry\"\n",
        "  surname = \"Burrows\"\n",
        "  full_name = surname +\", \" + first_name + \" \" + middle_name\n",
        "  print(full_name)\n",
        "print_initials()"
      ],
      "execution_count": 39,
      "outputs": [
        {
          "output_type": "stream",
          "name": "stdout",
          "text": [
            "Burrows, Peter Barry\n"
          ]
        }
      ]
    },
    {
      "cell_type": "markdown",
      "metadata": {
        "id": "1Pvs8lp3bfYQ"
      },
      "source": [
        "# Substrings\n",
        "\n",
        "---\n",
        "\n",
        "A String is a set of characters. Each String has a length and each character in the string has a position or index. Indexing starts at 0 so the first character of a String is at position 0. As Strings have varying lengths, the last character of the String is at position -1. To find any character in the String, count from 0 or, if you want to count backwards from the end, count back from -1.  \n",
        "\n",
        "You can get a particular character, or a set of consecutive characters (substring) from a String using [] and the positions of the characters you want.  *This technique is particularly useful for searching and filtering*.\n",
        "\n",
        "Example:  \n",
        "To get the first letter of a String (in this case the String is called **category**)\n",
        "**first_letter** = `category`[0]  \n",
        "**second_letter** = `category`[1]  \n",
        "**sixth_letter** = `category`[5]  \n",
        "\n",
        "To get the last letter of `category`:  \n",
        "**last_letter** = `category`[-1]  \n",
        "**second_last_letter** = `category`[-2]  \n",
        "**third_last_letter** = `category`[-3]  \n",
        "\n",
        "Have a go"
      ]
    },
    {
      "cell_type": "code",
      "metadata": {
        "id": "1EMg6ff7bw7o",
        "colab": {
          "base_uri": "https://localhost:8080/"
        },
        "outputId": "b4ad3767-feb2-41e8-d9bb-26868d5b7a12"
      },
      "source": [
        "def print_letters():\n",
        "   category = \"Maintenance\" \n",
        "   # add your code below here to get a particular letter and print it.\n",
        "   second_letter = category[1]\n",
        "   sixth_letter = category[5]\n",
        "   last_letter = category[-1]\n",
        "   second_last_letter = category[-2]\n",
        "   third_last_letter = category[-3]\n",
        "   print(sixth_letter)\n",
        "   print(second_letter)\n",
        "   print(last_letter)\n",
        "   print(second_last_letter)\n",
        "   print(third_last_letter)\n",
        "print_letters()"
      ],
      "execution_count": null,
      "outputs": [
        {
          "output_type": "stream",
          "name": "stdout",
          "text": [
            "e\n",
            "a\n",
            "e\n",
            "c\n",
            "n\n"
          ]
        }
      ]
    },
    {
      "cell_type": "markdown",
      "metadata": {
        "id": "FfkpprKbb0Eu"
      },
      "source": [
        "To get a set of letters from a String, use the **slice** operator.  \n",
        "\n",
        "*substring = stringname[ index of first letter to be included_ : index + 1 of last letter ]* \n",
        "\n",
        "Example:  \n",
        "\n",
        "**first_three_letters** = `category`[0:3]  \n",
        "**second_to_fifth_letters** = `category`[1:5]  \n",
        "**last_three_letters** = `category`[-3:]  \n",
        "\n",
        "*Note: we can't add 1 to -1 as the result would be 0 and confused with the first letter, so we omit the second number to indicate that we want all characters to the end of the string*"
      ]
    },
    {
      "cell_type": "code",
      "metadata": {
        "id": "FGQj_JCVcPGj",
        "colab": {
          "base_uri": "https://localhost:8080/"
        },
        "outputId": "5b802f07-fc72-41ae-8dc0-524b3aecc7dd"
      },
      "source": [
        "def print_substrings():\n",
        "   category = \"Maintenance\" \n",
        "   # add your code below here to get a particular letter, or set of letters and print them.\n",
        "   first_three_letters = category[0:3]\n",
        "   second_to_fifth_letters = category[1:5]\n",
        "   last_three_letters = category[-3:]\n",
        "   print(first_three_letters)\n",
        "   print(second_to_fifth_letters)\n",
        "   print(last_three_letters)\n",
        "print_substrings()"
      ],
      "execution_count": null,
      "outputs": [
        {
          "output_type": "stream",
          "name": "stdout",
          "text": [
            "Mai\n",
            "aint\n",
            "nce\n"
          ]
        }
      ]
    },
    {
      "cell_type": "markdown",
      "metadata": {
        "id": "Cb2OHs_jcQFv"
      },
      "source": [
        "---\n",
        "### Exercise 2 - substrings\n",
        "\n",
        "Write a function called **print_substring()** which will:\n",
        " \n",
        "Create a variable called **location** and assign it a string of at least 5 letters  \n",
        "Print the **first** and the **fourth** letters in the `location`  \n",
        "\n",
        "### Test  \n",
        "If `name` is assigned the value \"Peake House\" the output should be:    \n",
        " \n",
        "First letter is P, fourth letter is k\n"
      ]
    },
    {
      "cell_type": "code",
      "metadata": {
        "id": "IfABvmw2cgfH",
        "colab": {
          "base_uri": "https://localhost:8080/"
        },
        "outputId": "f4f66f35-e7b2-4737-b835-3863e03d7ea7"
      },
      "source": [
        "location =\"Peake House\"\n",
        "first_letter = location[0]\n",
        "fourth_letter = location[3]\n",
        "print(first_letter)\n",
        "print(fourth_letter)"
      ],
      "execution_count": null,
      "outputs": [
        {
          "output_type": "stream",
          "name": "stdout",
          "text": [
            "P\n",
            "k\n"
          ]
        }
      ]
    },
    {
      "cell_type": "markdown",
      "metadata": {
        "id": "6ryO1LJMchLQ"
      },
      "source": [
        "---\n",
        "### Exercise 3  - Formatting String output  \n",
        "\n",
        "Write a function called **print_formatted()** which will:  \n",
        "\n",
        "*  ask the user to input a **building_number**\n",
        "*  ask the user to input a **road_name**, then a **town**, then a **postcode**  \n",
        "*  print the address on three lines (`building_number` with a comma and `road_name`, `town`, `postcode`)  \n",
        "\n",
        "### Test  \n",
        "If `building_number` is 10, `road_name` is \"Old Road\", `town` is `Chatham` and `postcode` is \"ME4 1AA\" the output should be:    \n",
        "   \n",
        "10, Old Road  \n",
        "Chatham  \n",
        "ME4 1AA  "
      ]
    },
    {
      "cell_type": "code",
      "metadata": {
        "id": "qNHq7Ub4c1xP",
        "colab": {
          "base_uri": "https://localhost:8080/"
        },
        "outputId": "902f35b3-7ad3-44bc-9c32-25c3d073cc7c"
      },
      "source": [
        "def print_formatted():\n",
        "\n",
        "  building_number = 10\n",
        "  road_name = \"Old Road\"\n",
        "  town = \"Chatham\"\n",
        "  postcode = \"ME4 1AA\"\n",
        "  print(str(building_number) + \", \" + road_name)\n",
        "  print(road_name)\n",
        "  print(town)\n",
        "  print(postcode)\n",
        "\n",
        "print_formatted()"
      ],
      "execution_count": 31,
      "outputs": [
        {
          "output_type": "stream",
          "name": "stdout",
          "text": [
            "10, Old Road\n",
            "Old Road\n",
            "Chatham\n",
            "ME4 1AA\n"
          ]
        }
      ]
    },
    {
      "cell_type": "markdown",
      "metadata": {
        "id": "E4BkKHlyc2BA"
      },
      "source": [
        "# String functions\n",
        "\n",
        "## String length\n",
        "\n",
        "You can get the length of a String using the len() function   \n",
        "e.g. **namelength** = len(`name`)  \n"
      ]
    },
    {
      "cell_type": "markdown",
      "metadata": {
        "id": "B0-NtV3uc8UC"
      },
      "source": [
        "---\n",
        "### Exercise 4 - String length  \n",
        "\n",
        "Write a function called **print_namelength()** which will:  \n",
        "\n",
        "*  create a variable called **name** and assign it a string value  \n",
        "*  assign the length of the name to a variable called **name_length**  \n",
        "*  print the `name` followed by a comma, then `name_length`, then the word “characters”.\n",
        "\n",
        "### Test  \n",
        "If `name` has the value \"William\" the output should be:    \n",
        " \n",
        "William, 7 characters"
      ]
    },
    {
      "cell_type": "code",
      "metadata": {
        "id": "ldWAjdrIdOzn",
        "colab": {
          "base_uri": "https://localhost:8080/"
        },
        "outputId": "1d60bc78-3b0c-45ac-8854-d6557df64a30"
      },
      "source": [
        "def  print_namelength():\n",
        "  name = \"William\"\n",
        "  name_length = len(name)\n",
        "  print(name + \", \" + str(name_length) + \" characters\")  \n",
        "print_namelength()"
      ],
      "execution_count": 34,
      "outputs": [
        {
          "output_type": "stream",
          "name": "stdout",
          "text": [
            "William, 7 characters\n"
          ]
        }
      ]
    },
    {
      "cell_type": "markdown",
      "metadata": {
        "id": "2UTCEzYtdPTH"
      },
      "source": [
        "## String Case Conversion  \n",
        "\n",
        "When you start to compare and search for strings, you will need to be aware that data doesn’t always turn up in the state we would like it.  People often forget to use capital letters at the beginning of their names and will sometimes use all capitals.  It is useful, therefore, to be able to convert a String either to all capitals or all lowercase, depending on how you want to see it.  \n",
        "\n",
        "There are three functions for this, which are linked to the String (here the String variable is called **name**).  \n",
        "\n",
        "*   **upper_case_name** = `name.upper()`\n",
        "*   **lower_case_name** = `name.lower()`\n",
        "*   **capitalised_name** = `name.capitalize()`\n"
      ]
    },
    {
      "cell_type": "markdown",
      "metadata": {
        "id": "X-Fv314Hdicp"
      },
      "source": [
        "---\n",
        "### Exercise 5 - case conversion  \n",
        "\n",
        "Write a function called **convert_to_capitals()** which will:  \n",
        "\n",
        "*  Create a variable called **name** and assign it a string all in lowercase letters \n",
        "*  assign the capitalised String to the variable **capitalised_name** \n",
        "*  print the `name` in capitals  \n",
        "\n",
        "### Test  \n",
        "If `name` is \"jaswinder\" the output will be:    \n",
        "  \n",
        "JASWINDER  "
      ]
    },
    {
      "cell_type": "code",
      "metadata": {
        "id": "aHDLaligd0Do",
        "colab": {
          "base_uri": "https://localhost:8080/"
        },
        "outputId": "c0dd2a91-3cc6-4aaa-ea1f-df863af4ac4b"
      },
      "source": [
        "def convert_to_capitals():\n",
        "  name = \"raymond\"\n",
        "  capitalised_name = name.upper()\n",
        "  print(capitalised_name)\n",
        "convert_to_capitals()"
      ],
      "execution_count": null,
      "outputs": [
        {
          "output_type": "stream",
          "name": "stdout",
          "text": [
            "RAYMOND\n"
          ]
        }
      ]
    },
    {
      "cell_type": "markdown",
      "metadata": {
        "id": "DZeyD6p8dusQ"
      },
      "source": [
        "---\n",
        "###Exercise 6 - case conversion  \n",
        "\n",
        "Write a function called **capitalise_names()** which will:  \n",
        "\n",
        "*  Create the variables **name** and **surname** and give each an appropriate value  \n",
        "*  print both `name` and `surname` in lowercase with a capital letter at the start, even if they didn't have capitals when they were typed in  \n",
        "\n",
        "### Test  \n",
        "If `name` is \"benJamIN\" and `surname` is \"rAbBit\" the output will be:    \n",
        " \n",
        "Benjamin Rabbit\n"
      ]
    },
    {
      "cell_type": "code",
      "metadata": {
        "id": "bpCdYaPdap3V",
        "colab": {
          "base_uri": "https://localhost:8080/"
        },
        "outputId": "b8847933-9cb0-4ac4-a6f3-f3b79d90d689"
      },
      "source": [
        "def capitalise_names():\n",
        "  name = \"raYmOnd\"\n",
        "  surname =\"yALLop\"\n",
        "  capitalised_name = name.capitalize()\n",
        "  capitalised_surname = surname.capitalize()\n",
        "  print(capitalised_name,capitalised_surname)\n",
        "capitalise_names()"
      ],
      "execution_count": null,
      "outputs": [
        {
          "output_type": "stream",
          "name": "stdout",
          "text": [
            "Raymond Yallop\n"
          ]
        }
      ]
    },
    {
      "cell_type": "markdown",
      "metadata": {
        "id": "8Q9-32tFaqLN"
      },
      "source": [
        "---\n",
        "### Exercise 7 - Substrings\n",
        "\n",
        "Write a function called **print_postcode_letters()** which will:   \n",
        "\n",
        "*  Create a variable called **postcode** and assign it the value of a correctly formatted postcode    \n",
        "*  assign the first two letters of the postcode to a variable called **postcode_area**  \n",
        "*  convert the `postcode_area` String to capital letters and assign this to a variable called **capitalised_area**  \n",
        "*  print the `capitalised_area`  \n",
        "\n",
        "### Test  \n",
        "If `postcode` is \"Me4 6bb\" the output will be:    \n",
        "\n",
        "ME"
      ]
    },
    {
      "cell_type": "code",
      "metadata": {
        "id": "dB3M2qagbUsE",
        "colab": {
          "base_uri": "https://localhost:8080/"
        },
        "outputId": "c657b783-0729-4bd8-dc02-615f8e939778"
      },
      "source": [
        "def  print_postcode_letters():\n",
        "  postcode = \"Me4 6bb\" \n",
        "  postcode_area = postcode[0:2]\n",
        "  capitalised_area = postcode_area.upper()\n",
        "  print(capitalised_area)\n",
        "print_postcode_letters()"
      ],
      "execution_count": null,
      "outputs": [
        {
          "output_type": "stream",
          "name": "stdout",
          "text": [
            "ME\n"
          ]
        }
      ]
    },
    {
      "cell_type": "markdown",
      "metadata": {
        "id": "2eezJB2UbU1M"
      },
      "source": [
        "---\n",
        "### Exercise 8 - Floor division and slicing\n",
        "\n",
        "Write a function called **print_half_word()** which will:\n",
        " \n",
        "*  create a variable called **word** and assign a word  \n",
        "*  assign the value of half the length of the `word` to a variable called **half_length**  \n",
        "*  assign the first half of the `word` to a new variable called **half_word**  \n",
        "*  print `half_word`  \n",
        "\n",
        "*Hint:  when dividing the length of the word by 2, use floor division (//) so that you get a whole number of letters).  To get the first half of the word, use word[0:halfLength]*  \n",
        "\n",
        "### Test  \n",
        "If `word` has the value \"Runtime\" the output will be:    \n",
        " \n",
        "Run"
      ]
    },
    {
      "cell_type": "code",
      "metadata": {
        "id": "Xx3zHFgab2pt",
        "colab": {
          "base_uri": "https://localhost:8080/"
        },
        "outputId": "f4015d3e-1b52-42f2-af98-ad747c84a459"
      },
      "source": [
        "def print_half_word():\n",
        "  word =\"Runtime\"\n",
        "  halfLength = 3\n",
        "  half_word = word[0:halfLength]\n",
        "  print(half_word)\n",
        "print_half_word()"
      ],
      "execution_count": null,
      "outputs": [
        {
          "output_type": "stream",
          "name": "stdout",
          "text": [
            "Run\n"
          ]
        }
      ]
    },
    {
      "cell_type": "markdown",
      "metadata": {
        "id": "0MdQRAo4b20u"
      },
      "source": [
        "---\n",
        "### Exercise 9 - String repetition\n",
        "\n",
        "Write a function called **repeat_two_letters()** which will:\n",
        "\n",
        "*  create a variable called **word** and assign it a value  \n",
        "*  assign the last two letters of the `word` to a variable called **last_two**  \n",
        "*  assign a string made of 5 copies of the `last_two` (*Hint: `last_two`* * 5 *will do it)* to a variable called **five_copies**  \n",
        "*  print `five_copies`\n",
        "\n",
        "### Test  \n",
        "if `word` is \"Data\" the output will be:  \n",
        "\n",
        "tatatatata"
      ]
    },
    {
      "cell_type": "code",
      "metadata": {
        "id": "85-6jHD-cXRO",
        "colab": {
          "base_uri": "https://localhost:8080/"
        },
        "outputId": "612fd89a-484e-47ac-9111-bb4209ef1279"
      },
      "source": [
        "def  repeat_two_letters():\n",
        "  word =\"Data\"\n",
        "  last_two = word[-2:]\n",
        "  five_copies = last_two*5\n",
        "  print(five_copies)\n",
        "repeat_two_letters()"
      ],
      "execution_count": 6,
      "outputs": [
        {
          "output_type": "stream",
          "name": "stdout",
          "text": [
            "tatatatata\n"
          ]
        }
      ]
    },
    {
      "cell_type": "markdown",
      "metadata": {
        "id": "6P284VwXcXaU"
      },
      "source": [
        "---\n",
        "### Exercise 10 - converting String to lower case\n",
        "\n",
        "Write a function called **lowerCase_threeLetters()** which will:  \n",
        "\n",
        "*  assign the value “january” to a variable called **month**  \n",
        "*  assign the first three characters of `month` to a variable called **month_short**   \n",
        "*  capitalise `month_short` and store the result back in `month_short`\n",
        "*  assign the rest of the characters to a variable called **month_rest**  \n",
        "*  join `month_short` and `month_rest` together and store the result back into the variable `month`  \n",
        "*  print `month`  \n",
        "\n",
        "Expected output:  \n",
        "JANuary  "
      ]
    },
    {
      "cell_type": "code",
      "metadata": {
        "id": "GXqOeFwycuDD",
        "colab": {
          "base_uri": "https://localhost:8080/"
        },
        "outputId": "c1e9142d-d6fe-4454-85d3-7351cdf76c8a"
      },
      "source": [
        "def lowerCase_threeLetters ():\n",
        "  month = \"january\"\n",
        "  month_short = month[0:3]\n",
        "  month_short = month_short.upper()\n",
        "  month_rest = month[-4:]\n",
        "  month = month_short + month_rest\n",
        "  print(month)\n",
        "lowerCase_threeLetters()"
      ],
      "execution_count": 15,
      "outputs": [
        {
          "output_type": "stream",
          "name": "stdout",
          "text": [
            "JANuary\n"
          ]
        }
      ]
    }
  ]
}