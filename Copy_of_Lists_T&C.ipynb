{
  "nbformat": 4,
  "nbformat_minor": 0,
  "metadata": {
    "colab": {
      "provenance": [],
      "toc_visible": true,
      "include_colab_link": true
    },
    "kernelspec": {
      "name": "python3",
      "display_name": "Python 3"
    },
    "language_info": {
      "name": "python"
    }
  },
  "cells": [
    {
      "cell_type": "markdown",
      "metadata": {
        "id": "view-in-github",
        "colab_type": "text"
      },
      "source": [
        "<a href=\"https://colab.research.google.com/github/Ray-Yallop/Python-Course/blob/main/Copy_of_Lists_T%26C.ipynb\" target=\"_parent\"><img src=\"https://colab.research.google.com/assets/colab-badge.svg\" alt=\"Open In Colab\"/></a>"
      ]
    },
    {
      "cell_type": "markdown",
      "metadata": {
        "id": "Z-M-RCWATK71"
      },
      "source": [
        "# Lists\n",
        "\n",
        "Often we need to store a number of single items of data together so that they can be processed together. This might be because all the data refers to one person (e.g. name, age, gender, etc) OR it might be because we have a set of data (e.g. all the categories that a notice relates to)\n",
        "\n",
        "Python has a range of data structures available including:\n",
        "*   lists  \n",
        "*   tuples  \n",
        "*   dictionaries  \n",
        "*   sets\n",
        "\n",
        "This worksheet looks at lists.\n",
        "\n",
        "## List\n",
        "A list is a set of related, individual data objects, that are indexed and can be processed as a whole, as subsets or as individual items.  Lists are stored, essentially, as contiguous items in memory so that access can be as quick as possible.  However, they are mutable (they can be changed after they are created and stored) and so those mechanisms need to include extra functionality to deal with changing list sizes.\n",
        "\n",
        "A list is created with a name and and equals sign, and all the elements in the list are within square brackets, separated by a comma.  If the element is a string, it will also be in speech marks:\n",
        "\n",
        "```\n",
        "categories_list = [\"well being\", \"local events\", \"community events\", \"families and parents\", \"jobs and volunteering\" ]\n",
        "```\n",
        "\n",
        "## List functions\n",
        "\n",
        "**length of list** - counts the elements in a list and returns the total\n",
        "\n",
        "len(categories_list)\n",
        "\n",
        "## List indexing\n",
        "To access individual elements in a list, we use their position.  Positioning is numbered from 0 at the beginning of the list, up to 1-length of list.The first element in the list is at position 0, the second at position 1 and so on. \n",
        "\n",
        "To make it easy to jump to the end of a list, a negative numbering system is used.  The last element is at position -1 (regardless of the length of the list), the second to last is a position -2, etc. So:  \n",
        "\n",
        "`categories_list[0]` - is the first element in the list  \n",
        "`categories_list[-1]` - is the last element in the list   \n",
        "\n",
        "Lists can be sliced using the position of the first element to include and the position after the last element to include.  So:\n",
        "\n",
        "`categories_list[2:4]` - will get the third and fourth element in the list\n",
        "`categories_list[-4::]` - will get the last 4 elements in the list\n",
        "`categories_list[:5]` - will get the first 5 elements in the list  \n",
        "\n",
        "To change an element in a list, assign a new value to the element at a given position:  \n",
        "\n",
        "`categories_list[1] = \"well-being\"` - changes the value of the second element in the list from its original value to its new value\n",
        "\n",
        "## List methods\n",
        "There is a full list of the methods (things a list can do to change itself) here:  https://www.w3schools.com/python/python_ref_list.asp \n",
        "\n",
        "A method is a function that is applied to an object such as a list.  So:\n",
        "\n",
        "`categories_list.append(\"learning\")` will add \"learning\" to the end of the list of categories.\n",
        "\n",
        "A method will change the list directly, so the instruction can stand on its own and doesn't need to store its result back in the original list.\n",
        "\n",
        "\n"
      ]
    },
    {
      "cell_type": "markdown",
      "metadata": {
        "id": "Ft0dXl7fUuaK"
      },
      "source": [
        "---\n",
        "### Exercise 1 - manage list of categories\n",
        "\n",
        "Write a function, **print_categories()** which will:\n",
        "*  create the list **categories_list** and assign the following list [\"well being\", \"local events\", \"community events\", \"families and parents\", \"jobs and volunteering\" ]\n",
        "*  print the length of the list `categories`\n",
        "*  print the list of categories one per line (using a for loop)\n",
        "\n",
        "## Test\n",
        "The expected output is:\n",
        "\n",
        "```\n",
        "5\n",
        "well being\n",
        "local events\n",
        "community events\n",
        "families and parents\n",
        "jobs and volunteering\n",
        "```"
      ]
    },
    {
      "cell_type": "code",
      "source": [
        "def get_print_categories():\n",
        "  list = [\"well being\", \"local events\", \"community events\", \"families and parents\", \"jobs and volunteering\" ]\n",
        "  count = 0\n",
        "  print(len(list))\n",
        "  for count in list:\n",
        "    print(count) \n",
        "get_print_categories()"
      ],
      "metadata": {
        "id": "QQSxE92IVlHg",
        "colab": {
          "base_uri": "https://localhost:8080/"
        },
        "outputId": "c80d3c16-f9a1-4e00-f3b5-af905f704475"
      },
      "execution_count": null,
      "outputs": [
        {
          "output_type": "stream",
          "name": "stdout",
          "text": [
            "5\n",
            "well being\n",
            "local events\n",
            "community events\n",
            "families and parents\n",
            "jobs and volunteering\n"
          ]
        }
      ]
    },
    {
      "cell_type": "markdown",
      "source": [
        "---\n",
        "### Exercise 2 - change item in list\n",
        "\n",
        "Write a function, **change_categories()** which will:\n",
        "*  create the same list (**categories list**)\n",
        "*  amend the first item in the list so it reads **well-being**\n",
        "*  print the list (as it is)\n",
        "*  return the list of categories\n",
        "\n",
        "**Expected Output**\n",
        "\n",
        "```\n",
        "['well-being','local events','community events','families and parents','jobs and volunteering']\n",
        "```"
      ],
      "metadata": {
        "id": "9YkKNJNrfYiy"
      }
    },
    {
      "cell_type": "code",
      "source": [
        "def get_change_categories():\n",
        "  list= [\"oophs well being\", \"local events\", \"community events\", \"families and parents\", \"jobs and volunteering\" ]\n",
        "  count = 0\n",
        "  list[0] = \"well being\" # change first element \n",
        "  for count in list:\n",
        "    print(count) \n",
        "get_change_categories()"
      ],
      "metadata": {
        "id": "ryPTakrmgeDj",
        "colab": {
          "base_uri": "https://localhost:8080/"
        },
        "outputId": "9e33a476-bde2-45a8-9fac-c9a2aebd91f9"
      },
      "execution_count": null,
      "outputs": [
        {
          "output_type": "stream",
          "name": "stdout",
          "text": [
            "well being\n",
            "local events\n",
            "community events\n",
            "families and parents\n",
            "jobs and volunteering\n"
          ]
        }
      ]
    },
    {
      "cell_type": "markdown",
      "source": [
        "---\n",
        "### Exercise 3 - add to list of categories\n",
        "\n",
        "Write a function, **add_category(new_category)** which will:  \n",
        "*  create the same `categories_list` again\n",
        "*  add the new category name in the brackets, as the parameter **new_category** to the list.  _Hint: use `.append(new_category)`_\n",
        "*  print the list of categories (using a loop)\n",
        "\n",
        "**Add a function call** to run the function with the new category \"learning\" e.g:\n",
        "`add_category(\"learning\")`\n",
        "\n",
        "## Test:\n",
        "\n",
        "The expected output is that the original list is printed with the new category added to the end.\n",
        "\n",
        "```\n",
        "well-being\n",
        "local events\n",
        "community events\n",
        "families and parents\n",
        "jobs and volunteering\n",
        "learning\n",
        "```"
      ],
      "metadata": {
        "id": "KpOFEmxJTnXk"
      }
    },
    {
      "cell_type": "code",
      "metadata": {
        "id": "P2HnCG9pb1BS",
        "colab": {
          "base_uri": "https://localhost:8080/"
        },
        "outputId": "7386828e-74a4-44b5-f576-49fbc565d92e"
      },
      "source": [
        "def get_add_category(new_category):\n",
        "  list= [\"well being\", \"local events\", \"community events\", \"families and parents\", \"jobs and volunteering\" ]\n",
        "  count = 0\n",
        "  list.append(new_category)\n",
        "  for count in list:\n",
        "    print(count) \n",
        "get_add_category(\"learning\")"
      ],
      "execution_count": null,
      "outputs": [
        {
          "output_type": "stream",
          "name": "stdout",
          "text": [
            "well being\n",
            "local events\n",
            "community events\n",
            "families and parents\n",
            "jobs and volunteering\n",
            "learning\n"
          ]
        }
      ]
    },
    {
      "cell_type": "markdown",
      "metadata": {
        "id": "yNWg08k6bXv0"
      },
      "source": [
        "---\n",
        "### Exercise 4 - create list of locations\n",
        "\n",
        "Write a function **show_locations()** which will:\n",
        "*  create a new list **noticeboard_locations** and add at least 6 locations to the list e.g. Dartford, Medway, Maidstone\n",
        "*  print the list of locations using a loop \n",
        "\n",
        "## Test\n",
        "An example of the list might be:\n",
        "\n",
        "Dartford  \n",
        "Medway  \n",
        "Maidstone  \n",
        "Tunbridge Wells  \n",
        "Dover  "
      ]
    },
    {
      "cell_type": "code",
      "source": [
        "def get_show_locations(noticeboard_locations):\n",
        " count  = 0 \n",
        " for count in noticeboard_locations:\n",
        "  print(count) \n",
        "get_show_locations([\"Dartford\", \"Medway\", \"Maidstone\", \"Tunbridge Wells\",\"Dover\",\"Tonbridge\"])"
      ],
      "metadata": {
        "id": "KGJJyOB3VyEK",
        "colab": {
          "base_uri": "https://localhost:8080/"
        },
        "outputId": "87dc0eda-bfc4-4180-cef0-34d7ea62deb9"
      },
      "execution_count": null,
      "outputs": [
        {
          "output_type": "stream",
          "name": "stdout",
          "text": [
            "Dartford\n",
            "Medway\n",
            "Maidstone\n",
            "Tunbridge Wells\n",
            "Dover\n",
            "Tonbridge\n"
          ]
        }
      ]
    },
    {
      "cell_type": "markdown",
      "source": [
        "---\n",
        "### Exercise 5 - create list of preferences\n",
        "\n",
        "Write a function **filter_locations()** which will:\n",
        "*  create a new list **locations** and assign the list ['Dartford','Medway','Maidstone','Tunbridge Wells','Dover']\n",
        "*  create a second, empty, list **filtered_locations**\n",
        "*  iterate through the list of `locations` and if the location starts with the letter \"M\", append that location to the new list (**filtered_locations**)\n",
        "*  print the length of each list\n",
        "*  print the first and last items in the `filtered_locations` list \n",
        "*  return the `filtered_locations` list\n",
        "\n",
        "## Test\n",
        "\n",
        "The expected output is:\n",
        "\n",
        "```\n",
        "5\n",
        "2\n",
        "Medway  \n",
        "Maidstone\n",
        "```\n",
        "\n"
      ],
      "metadata": {
        "id": "ddvD-szJXcPo"
      }
    },
    {
      "cell_type": "code",
      "source": [
        "def get_filter_locations(noticeboard_locations):\n",
        " count = 0\n",
        " count_nloc = 0           # Number of locations\n",
        " count_floc = 0           # Number of selected locations\n",
        " filtered_locations = []  # Filtered locations\n",
        " for count in noticeboard_locations:\n",
        "  if count[0] == \"M\":     # Locations staring with \"M\"\n",
        "    filtered_locations.append(count)\n",
        "\n",
        " count_nloc = len(noticeboard_locations)\n",
        " count_floc = len(filtered_locations)\n",
        " print(count_nloc)\n",
        " print(count_floc)\n",
        " count = 0\n",
        " for count in filtered_locations:\n",
        "  print(count)\n",
        "  \n",
        "get_filter_locations([\"Dartford\", \"Medway\", \"Maidstone\", \"Tunbridge Wells\",\"Dover\"])"
      ],
      "metadata": {
        "id": "JA68Wc96Xe9K",
        "colab": {
          "base_uri": "https://localhost:8080/"
        },
        "outputId": "f6569ba0-77ce-4dcb-cce2-c8215f5f54ca"
      },
      "execution_count": null,
      "outputs": [
        {
          "output_type": "stream",
          "name": "stdout",
          "text": [
            "5\n",
            "2\n",
            "Medway\n",
            "Maidstone\n"
          ]
        }
      ]
    },
    {
      "cell_type": "markdown",
      "source": [
        "---\n",
        "### Exercise 6 - is item in list or not?\n",
        "\n",
        "Write a function **is_in_lists()** which will:\n",
        "*  create a new list **all_locations** and assign this set of locations:  Maidstone, Medway, Dartford, Dover, Tunbridge Wells, Tonbridge, Sevenoaks\n",
        "*  create a second list **notice_locations** and assign this set of locations:  Dartford, Medway, Gravesend\n",
        "*  check whether Medway is in both lists and print either \"Medway is in both lists\", or \"Medway is in one list\", or \"Medway is not in either list\", as appropriate.\n",
        "\n",
        "## Test 1\n",
        "Follow the instructions above.  The expected output is:  \n",
        "`Medway is in both lists`\n",
        "\n",
        "## Test 2\n",
        "Remove Medway from the notice_locations list and run the code again.  The expected output is:  \n",
        "`Medway is in one list`\n",
        "\n",
        "## Test 3\n",
        "Remove Medway from the all_locations list and run the code again.  The expected output is:  \n",
        "`Medway is not in either list`"
      ],
      "metadata": {
        "id": "o1R8Tp4zlm-b"
      }
    },
    {
      "cell_type": "code",
      "source": [
        "def get_is_in_lists(all_locations,notice_locations,location):\n",
        "  all_loc = bool()  # All locations initalised as False\n",
        "  nct_loc = bool()  # Notice locations initalised as False\n",
        "  count = 0\n",
        "  for count in all_locations:  \n",
        "    if count  == location:\n",
        "      all_loc = True\n",
        "      break\n",
        "\n",
        "  count = 0\n",
        "  for count in notice_locations: \n",
        "    if count  == location:\n",
        "      nct_loc = True\n",
        "      break\n",
        "\n",
        "  if all_loc == True and nct_loc == True:\n",
        "    print(location + \" is in both lists\")\n",
        "  elif all_loc != True and nct_loc != True:\n",
        "    print(location + \" is not in either list\")\n",
        "  else:\n",
        "    print(location + \" is in one list\")\n",
        "\n",
        "get_is_in_lists([\"Maidstone\",\"Medway\",\"Dartford\",\"Dover\",\"Tunbridge Wells\",\"Tonbridge\",\"Sevenoaks\"],[\"Dartford\",\"Medway\",\"Gravesend\"],\"Medway\")\n",
        "#get_is_in_lists([\"Maidstone\",\"Medway\",\"Dartford\",\"Dover\",\"Tunbridge Wells\",\"Tonbridge\",\"Sevenoaks\"],[\"Dartford\",\"Gravsend\"],\"Medway\")\n",
        "#get_is_in_lists([\"Maidstone\",\"Dartford\",\"Dover\",\"Tunbridge Wells\",\"Tonbridge\",\"Sevenoaks\"],[\"Dartford\",\"Gravesend\"],\"Medway\")"
      ],
      "metadata": {
        "id": "9fxDH5MIm3sW",
        "colab": {
          "base_uri": "https://localhost:8080/"
        },
        "outputId": "99b6bb14-ebe4-45a6-c16d-4ba5973c237e"
      },
      "execution_count": null,
      "outputs": [
        {
          "output_type": "stream",
          "name": "stdout",
          "text": [
            "Medway is in both lists\n"
          ]
        }
      ]
    },
    {
      "cell_type": "markdown",
      "source": [
        "---\n",
        "### Exercise 7 - get the position of a named element in a list\n",
        "\n",
        "Write a function **remove_category(category)** which will:\n",
        "*  create a new list **categories** with the following elements: well being, local events, community events, families and parents, jobs and volunteering\n",
        "*  create a new variable called position and assign it the position of the element \"community events\" in the list  \n",
        "_Hint:  you can use `.index(\"community events\")`_\n",
        "*  print the `position`\n",
        "\n",
        "\n",
        "## Test:\n",
        "Following the instructions above the expected output is:  \n",
        "```\n",
        "2\n",
        "```"
      ],
      "metadata": {
        "id": "rxH09eBofm_j"
      }
    },
    {
      "cell_type": "code",
      "source": [
        "def get_remove_category(category):\n",
        "  position = 0\n",
        "  position = category.index(\"community events\")\n",
        "  print(position)\n",
        "\n",
        "get_remove_category([\"well being\",\"local events\",\"community events\",\"families and parents\",\"jobs and volunteering\"])"
      ],
      "metadata": {
        "colab": {
          "base_uri": "https://localhost:8080/"
        },
        "outputId": "650d7d9b-7760-4b51-847c-9984cc5a0cb3",
        "id": "R-pvNAljg2Bh"
      },
      "execution_count": null,
      "outputs": [
        {
          "output_type": "stream",
          "name": "stdout",
          "text": [
            "2\n"
          ]
        }
      ]
    },
    {
      "cell_type": "markdown",
      "source": [
        "---\n",
        "### Exercise 8 - remove an item from a list\n",
        "\n",
        "Write a function **remove_category(category)** which will:\n",
        "*  create a new list **categories** with the following contents: well being, local events, community events, families and parents, jobs and volunteering\n",
        "*  remove the community events element from the list\n",
        "*  print the list using a loop\n",
        "\n",
        "\n",
        "## Test:\n",
        "Following the instructions above the expected output is:  \n",
        "```\n",
        "well being\n",
        "local events\n",
        "families and parents\n",
        "jobs and volunteering\n",
        "```"
      ],
      "metadata": {
        "id": "VmjaMKEXPKba"
      }
    },
    {
      "cell_type": "code",
      "source": [
        "def get_remove_category(category):\n",
        "  count = 0\n",
        "  position = category.index(\"community events\")\n",
        "  category.pop(position) \n",
        "\n",
        "  for count in category: \n",
        "    print(count)\n",
        "\n",
        "get_remove_category([\"well being\",\"local events\",\"community events\",\"families and parents\",\"jobs and volunteering\"])\n",
        "#get_remove_category([\"well being\",\"local events\",\"community events\",\"families and parents\",\"jobs and volunteering\"])"
      ],
      "metadata": {
        "id": "e5cgRvmyfGiE",
        "colab": {
          "base_uri": "https://localhost:8080/"
        },
        "outputId": "4a3dda6c-d8ba-4a98-8e85-3d7e0858abc5"
      },
      "execution_count": null,
      "outputs": [
        {
          "output_type": "stream",
          "name": "stdout",
          "text": [
            "well being\n",
            "local events\n",
            "families and parents\n",
            "jobs and volunteering\n"
          ]
        }
      ]
    }
  ]
}