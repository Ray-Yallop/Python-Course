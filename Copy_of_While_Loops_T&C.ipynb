{
  "nbformat": 4,
  "nbformat_minor": 0,
  "metadata": {
    "colab": {
      "provenance": [],
      "toc_visible": true,
      "include_colab_link": true
    },
    "kernelspec": {
      "name": "python3",
      "display_name": "Python 3"
    }
  },
  "cells": [
    {
      "cell_type": "markdown",
      "metadata": {
        "id": "view-in-github",
        "colab_type": "text"
      },
      "source": [
        "<a href=\"https://colab.research.google.com/github/Ray-Yallop/Python-Course/blob/main/Copy_of_While_Loops_T%26C.ipynb\" target=\"_parent\"><img src=\"https://colab.research.google.com/assets/colab-badge.svg\" alt=\"Open In Colab\"/></a>"
      ]
    },
    {
      "cell_type": "markdown",
      "metadata": {
        "id": "OWGIE_ptimyf"
      },
      "source": [
        "# While loops\n",
        "\n",
        "---\n"
      ]
    },
    {
      "cell_type": "markdown",
      "metadata": {
        "id": "Kjh4DVogizl5"
      },
      "source": [
        "There are many situations when an external event (such as an input from the user or finding an invalid data value) will be the thing that will cause the loop to stop.\n",
        "\n",
        "A while loop allows us to say \"repeat these instructions while something has not yet happened, or repeat these instruction while a particular state exists\"\n",
        "\n",
        "For example, we want to ask a user to enter some positive numbers to be added to a total. They will indicate that there are no more numbers by entering -1.\n",
        "\n"
      ]
    },
    {
      "cell_type": "code",
      "metadata": {
        "id": "HieVx4BrtJlU"
      },
      "source": [
        "# initialise a total to 0\n",
        "# read the first number\n",
        "# add the number to the total and keep reading next number and adding to total until -1 entered\n",
        "\n",
        "def running_total():\n",
        "    total = 0\n",
        "    num = int(input(\"Enter a number, or type -1 to stop\"))\n",
        "    while num != -1:\n",
        "        total = total + num\n",
        "        num = int(input(\"Enter a number, or type -1 to stop\"))\n",
        "    print(total)\n",
        "\n",
        "running_total()"
      ],
      "execution_count": null,
      "outputs": []
    },
    {
      "cell_type": "markdown",
      "metadata": {
        "id": "X8pROiEYtKbA"
      },
      "source": [
        "**Another example**\n",
        "\n",
        "We want to take a number from the user and keep dividing it by 2 until the answer is 1 or less, then to print the number of times it was divided. Try it out. If you enter 8 then the answer should be 3, if you enter 6 the answer will also be 3."
      ]
    },
    {
      "cell_type": "code",
      "metadata": {
        "id": "eL9nJORbtTUb"
      },
      "source": [
        "def div_by_two():\n",
        "  num = int(input(\"Enter a number to be processed :\"))\n",
        "  number_times_divided = 0\n",
        "  while num > 1:\n",
        "    number_times_divided = number_times_divided + 1\n",
        "    num = num/2\n",
        "  print(\"Your number was divided\", number_times_divided, \"times\") \n",
        "   \n",
        "div_by_two()"
      ],
      "execution_count": null,
      "outputs": []
    },
    {
      "cell_type": "markdown",
      "metadata": {
        "id": "jKqqk9LstW83"
      },
      "source": [
        "*Here are some more examples of use of while loops.*\n",
        "\n",
        "### Ensuring valid input  \n",
        "When reading from the keyboard it is important to ensure that the user only enters valid data. You can do this in a number of ways but a while loop can be used to make the user keep entering data until they enter something that is valid."
      ]
    },
    {
      "cell_type": "code",
      "metadata": {
        "id": "7_CoIBfluIUG",
        "colab": {
          "base_uri": "https://localhost:8080/"
        },
        "outputId": "0e29b021-4afa-4fd8-c7c9-ca77886016fa"
      },
      "source": [
        "# read a number from the user\n",
        "# check that the number is a positive integer.  If not, display error messages\n",
        "# keep reading until a positive integer is read\n",
        "\n",
        "def positive_num():\n",
        "  number = -1\n",
        "  while number < 0:\n",
        "    print(\"You must type a number above 0\")\n",
        "    number = int(input(\"Enter a positive number :\"))\n",
        "  print(\"Thank you for typing the number\", number)\n",
        "\n",
        "positive_num()"
      ],
      "execution_count": 15,
      "outputs": [
        {
          "output_type": "stream",
          "name": "stdout",
          "text": [
            "You must type a number above 0\n",
            "Enter a positive number :-1\n",
            "You must type a number above 0\n",
            "Enter a positive number :6\n",
            "Thank you for typing the number 6\n"
          ]
        }
      ]
    },
    {
      "cell_type": "markdown",
      "metadata": {
        "id": "YiO-WgJ8zzjp"
      },
      "source": [
        "### Take home points\n",
        "\n",
        "* An algorithm is the method for solving a particular problem (e.g. getting the right sort of number, selecting a message depending on input, calculating a new figure, etc)\n",
        "* A while loop will keep repeating while the given condition is TRUE\n",
        "* As soon as the condition becomes false the loop will stop executing\n",
        "* We use while loops when we don't necessarily know how many times a loop will need to repeat, but we do know under what conditions it does need to repeat."
      ]
    },
    {
      "cell_type": "markdown",
      "metadata": {
        "id": "4CS8CNrmQUbO"
      },
      "source": [
        "---\n",
        "### Exercise 1 - get a valid username\n",
        "\n",
        "Write a function called **get_username()** which will:  \n",
        "\n",
        "*  assign the value False to a boolean variable called **valid**  \n",
        "*  start a while loop that will continue to loop while `valid` is False  \n",
        "*  in the loop:  ask the user to enter a **username**,  if the `username` is \"user\" assign the value True to `valid`, otherwise print the message \"Incorrect user name\"   \n",
        "*  after the loop, display the message \"Welcome `username`, you will now be asked to enter your password  \n",
        "\n",
        "Test input:  \n",
        "username   \n",
        "user  \n",
        "\n",
        "Expected output:  \n",
        "Incorrect username  \n",
        "Welcome user you will now be asked to enter your password  "
      ]
    },
    {
      "cell_type": "code",
      "metadata": {
        "id": "nwq55T5eRv7_",
        "colab": {
          "base_uri": "https://localhost:8080/"
        },
        "outputId": "2b88f125-c822-4c25-8b24-65d54c0cd1ff"
      },
      "source": [
        "def get_username():\n",
        "  valid=bool() \n",
        "  username=[]\n",
        "  message=[]\n",
        "  while valid == False:\n",
        "    username = input(\"Enter User Name : \")\n",
        "    if username == \"user\":\n",
        "      valid = True\n",
        "      message=(\"Welcome \" + username + \" you will now be asked to enter your password\")\n",
        "    else:\n",
        "      message =(\"Incorrect user name\")\n",
        "    print(message)\n",
        "get_username()"
      ],
      "execution_count": 56,
      "outputs": [
        {
          "output_type": "stream",
          "name": "stdout",
          "text": [
            "Enter User Name : Steve\n",
            "Incorrect user name\n",
            "Enter User Name : user\n",
            "Welcome user you will now be asked to enter your password\n"
          ]
        }
      ]
    },
    {
      "cell_type": "markdown",
      "metadata": {
        "id": "FXN6-MtQRwb9"
      },
      "source": [
        "---\n",
        "### Exercise 2 - get a valid passcode  \n",
        "\n",
        "Write a function called **get_passcode()** which will:  \n",
        "\n",
        "*  assign the value False to a boolean variable called **valid**  \n",
        "*  start a while loop that will continue to loop while `valid` is False  \n",
        "*  in the loop:  ask the user to enter a **passcode**, if the `passcode` is \"9876\" assign the value True to `valid`, otherwise print the message \"Incorrect passcode\"  \n",
        "*  after the loop, display the message \"Passcode accepted\"    \n",
        "\n",
        "Test input:  \n",
        "1234   \n",
        "9876  \n",
        "\n",
        "Expected output:  \n",
        "Incorrect passcode  \n",
        "Passcode accepted  "
      ]
    },
    {
      "cell_type": "code",
      "metadata": {
        "id": "a0Z_ACOiSxsP",
        "colab": {
          "base_uri": "https://localhost:8080/"
        },
        "outputId": "dc3d3cc6-71a3-4bc8-e759-09c0e42d7c20"
      },
      "source": [
        "def get_passcode():\n",
        "  valid = bool() \n",
        "  passcode =[]\n",
        "  message= []\n",
        "  while valid == False:\n",
        "    passcode = input(\"Enter passcode : \")\n",
        "    if passcode == \"9876\":\n",
        "      valid = True\n",
        "      message=(\"Passcode accepted\")\n",
        "    else:\n",
        "      message =(\"Incorrect passcode\")\n",
        "    print(message)\n",
        "get_passcode() "
      ],
      "execution_count": 55,
      "outputs": [
        {
          "output_type": "stream",
          "name": "stdout",
          "text": [
            "Enter passcode : 1234\n",
            "Incorrect passcode\n",
            "Enter passcode : 9876\n",
            "Passcode accepted\n"
          ]
        }
      ]
    },
    {
      "cell_type": "markdown",
      "metadata": {
        "id": "DMeDXd7TS0ar"
      },
      "source": [
        "---\n",
        "### Exercise 3 - Logged in or not  \n",
        "\n",
        "Write a function called **show_logged_in()** which will:  \n",
        "\n",
        "*  assign the value False to a boolean variable called **online**  \n",
        "*  use a while loop to repeatedly ask the user to enter a signon until the value they enter is equal to **dee@futurecoders.org.uk**     \n",
        "*  in the loop:  ask the user to enter their email address **email**, if  `email` is dee@futurecoders.org.uk change the value of online True, otherwise print(\"This is not the right email\".\n",
        "*  after the loop, display the message \"Thank you for signing in\"\n",
        " \n",
        "**Test input:**  \n",
        "ano@futurecoders.org.uk  \n",
        "dee@futurecoders.org.uk  \n",
        "\n",
        "**Expected output:**  \n",
        "This is not the right email  \n",
        "Thank you for signing in "
      ]
    },
    {
      "cell_type": "code",
      "metadata": {
        "id": "4oGXPcmqTtVN"
      },
      "source": [
        "def show_logged_in():\n",
        "  online = bool()\n",
        "  signon = []\n",
        "  message = []\n",
        "  while online == False:\n",
        "    signon = input(\"Enter email address : \")\n",
        "    if signon == \"dee@futurecoders.org.uk\":\n",
        "      online = True\n",
        "      message=(\"Thank you for signing in\")\n",
        "    else:\n",
        "      message =(\"This is not the right email\")\n",
        "    print(message)\n",
        "show_logged_in()"
      ],
      "execution_count": null,
      "outputs": []
    },
    {
      "cell_type": "markdown",
      "metadata": {
        "id": "o80s4nzfi37X"
      },
      "source": [
        "---\n",
        "### Exercise 4 - Count how many logged on \n",
        "\n",
        "This exercise uses a list.  A list is a data structure which you will cover later in the course, but for now you need to know it is like a variable which contains multiple elements.  It is in square brackets and each element in the list is separated by a comma.\n",
        "\n",
        "An appropriate exampe of a list for this exercise would be:\n",
        "\n",
        "```\n",
        "users = [\"dee@futurecoders.org.uk\", \"sophie@townandcountry.co.uk\", \"harrison@townandcountry.co.uk\"]\n",
        "\n",
        "**or:**\n",
        "\n",
        "users = []\n",
        "```\n",
        "\n",
        "The function len() can be used on a list in exactly the same way as it can be in a string.\n",
        "\n",
        "Write a function called **how_many_logged_on()** which will:\n",
        "\n",
        "def how_many_logged_on():\n",
        "  users = [\"dee@futurecoders.org.uk\", \"sophie@townandcountry.co.uk\", \"harrison@townandcountry.co.uk\"]\n",
        "  count = len(users)\n",
        "  while count>0:\n",
        "    print(\"There are currently\", count, \"users logged on\")\n",
        "  else:\n",
        "    print(\"noone is logged on\")\n",
        "\n",
        "*  contain a list with the email addresses of T&C residents currently logged in.\n",
        "*  use len to produce a count of the number of people logged in\n",
        "*  use a while loop to run if the number of users currently logged on is greater than zero (0) \n",
        "*  produce a print statement of how many users are logged in or saying that noone is currently logged in.`\n",
        "\n",
        "**Test input:**  \n",
        "users = [ ]\n",
        "\n",
        "users = [\"dee@futurecoders.org.uk\", \"sophie@townandcountry.co.uk\", \"harrison@townandcountry.co.uk\"]\n",
        "\n",
        "**Expected output:  **\n",
        "noone is currently logged on \n",
        "There are currently 3 users logged on\n"
      ]
    },
    {
      "cell_type": "code",
      "metadata": {
        "id": "BmZjI8PzwdT-",
        "colab": {
          "base_uri": "https://localhost:8080/"
        },
        "outputId": "daa4e199-d281-4a28-83ac-89b48876906f"
      },
      "source": [
        "def get_how_many_logged_on(users):\n",
        "\n",
        "  count = 0\n",
        "  index = 0\n",
        "  count = len(users)\n",
        "  if count > 0:\n",
        "    while index < count:\n",
        "      print(\"User: \" +  str(users[index]) + \" logged on\")\n",
        "      index = index  + 1\n",
        "    print (\"There are currently \" + str(count) + \" users logged on\")\n",
        "  else:\n",
        "    print(\"No one is currently logged on\")\n",
        "\n",
        "#get_how_many_logged_on([])\n",
        "get_how_many_logged_on([\"dee@futurecoders.org.uk\", \"sophie@townandcountry.co.uk\", \"harrison@townandcountry.co.uk\"])"
      ],
      "execution_count": 54,
      "outputs": [
        {
          "output_type": "stream",
          "name": "stdout",
          "text": [
            "User: dee@futurecoders.org.uk logged on\n",
            "User: sophie@townandcountry.co.uk logged on\n",
            "User: harrison@townandcountry.co.uk logged on\n",
            "There are currently 3 users logged on\n"
          ]
        }
      ]
    },
    {
      "cell_type": "markdown",
      "metadata": {
        "id": "-p3LVygZwd6R"
      },
      "source": [
        "### Exercise 5 - menu choice \n",
        "\n",
        "Write a function called menu_options() which will:\n",
        "\n",
        "* display the following text on the screen as a menu:\n",
        "\n",
        "\n",
        "```\n",
        "     What categories would you like to see?\n",
        "\n",
        "     1. Wellness\n",
        "     2. Food Banks\n",
        "     3. Family\n",
        "     4. Mental Health\n",
        "     5. Quit the program\n",
        "```\n",
        "*  ask the user to input which value they would like to see by typing a number between 1 and 5 \n",
        "*  write a while loop that keeps processing unless the user selects number 5 (quit the program):\n",
        "\n",
        "if they select 1: \"Next wellness session is next Thursday\"\n",
        "if they select 2: \"Notices about food banks are being displayed\"\n",
        "if they select 3: \"Family notices are being displayed\"\n",
        "if they select 4: \"Notices about mental health are being displayed\"\n",
        "if they select 5: \"Thank you for looking at our notices\"\n",
        "\n",
        "**Test input:**\n",
        "1\n",
        "**Expected output:**\n",
        "Next wellness session is next Thursday\n",
        "\n",
        "**Test input:**\n",
        "2\n",
        "**Expected output:**\n",
        "Notices about food banks are being displayed\n",
        "\n",
        "**Test input:**\n",
        "3\n",
        "**Expected output:**\n",
        "Family notices are being displayed\n",
        "\n",
        "**Test input:**\n",
        "4\n",
        "**Expected output:**\n",
        "Notices about mental health are being displayed\n",
        "\n",
        "**Test input:**\n",
        "5\n",
        "**Expected output:**\n",
        "Thank you for looking at our notices\n"
      ]
    },
    {
      "cell_type": "code",
      "source": [
        "def get_menu_options(option):\n",
        "  \n",
        "  count = 0\n",
        "  index = 0\n",
        "  num = 1\n",
        "  opt = 0\n",
        "  message=[]\n",
        "  count = len(option)\n",
        "\n",
        "  while index < count:\n",
        "    print(str(num)  +  \": \"  +  str(option[index]))\n",
        "    index = index  + 1\n",
        "    num = num + 1\n",
        "\n",
        "  while opt != 5:\n",
        "    opt = int(input(\"Enter number between 1- 5: \"))\n",
        "    if opt == 1:\n",
        "      message =\"Next wellness session is next Thursday\"\n",
        "    elif opt == 2:\n",
        "        message =\"Notices about food banks are being displayed\"\n",
        "    elif opt == 3:\n",
        "        message =\"Family notices are being displayed\"\n",
        "    elif opt == 4:\n",
        "        message =\"Notices about mental health are being displayed\"\n",
        "    else:\n",
        "        message =\"Thank you for looking at our notices\"\n",
        "\n",
        "    print(message)\n",
        "\n",
        "get_menu_options([\"Wellness\",\"Food Banks\",\"Family\",\"Mental Health\",\"Quit the program\"])"
      ],
      "metadata": {
        "id": "tgSjzHVM18Ys"
      },
      "execution_count": null,
      "outputs": []
    },
    {
      "cell_type": "markdown",
      "source": [
        "**Keep Going**\n",
        "\n",
        "And some more exercises to further develop your understanding of while loops.  "
      ],
      "metadata": {
        "id": "oEwAp8O-xDKr"
      }
    },
    {
      "cell_type": "markdown",
      "metadata": {
        "id": "xPJfd9lUyULa"
      },
      "source": [
        "---\n",
        "### Exercise 6 - getting a number within limits \n",
        "\n",
        "Write a function called **test_limits()** which will:\n",
        "\n",
        "*  ask the user to enter a number between **1 and 31**\n",
        "*  if the number entered is less than 1 or more than 31, display the error message \"Number out of limits\"  \n",
        "*  continue asking the user until a valid input is given \n",
        "*  when a valid number is given, display the message \"Your number was `number`\" and end the program \n",
        "\n",
        "Test input:  \n",
        "40  \n",
        "50  \n",
        "30  \n",
        "\n",
        "Expected output:  \n",
        "Number out of limits  \n",
        "Number out of limits  \n",
        "Your number was 30  \n"
      ]
    },
    {
      "cell_type": "markdown",
      "source": [
        "# New section"
      ],
      "metadata": {
        "id": "GLskDhrGV70W"
      }
    },
    {
      "cell_type": "code",
      "metadata": {
        "id": "MVxhTY6zzq8k",
        "colab": {
          "base_uri": "https://localhost:8080/"
        },
        "outputId": "d2a5522c-468a-4ba8-9cd5-27007f825d63"
      },
      "source": [
        "def get_test_limits():\n",
        "  num = 0\n",
        "  loop = bool() \n",
        "  message = []\n",
        "  while  loop == False:\n",
        "    num = int(input(\"Enter number between 1- 31: \"))\n",
        "    if 0 < num <32:\n",
        "      message = (\"Your number was \" + str(num))\n",
        "      loop = True\n",
        "    else:\n",
        "      message =(\"Number out of limits\")\n",
        "\n",
        "    print(message)\n",
        "\n",
        "get_test_limits()"
      ],
      "execution_count": 53,
      "outputs": [
        {
          "output_type": "stream",
          "name": "stdout",
          "text": [
            "Enter number between 1- 31: 40\n",
            "Number out of limits\n",
            "Enter number between 1- 31: 50\n",
            "Number out of limits\n",
            "Enter number between 1- 31: 30\n",
            "Your number was 30\n"
          ]
        }
      ]
    },
    {
      "cell_type": "markdown",
      "metadata": {
        "id": "WcHiG9AlUPdr"
      },
      "source": [
        "---\n",
        "### Exercise 7 - getting a number outside range\n",
        "\n",
        "Write a function called **test_outlier()** which will:\n",
        "\n",
        "*  ask the user to enter a **number** that is NOT between 40 and 50  \n",
        "*  if the `number` entered is between 40 and 50 (including both 40 and 50, display the error message \"This is not an outlier\"\n",
        "*  continue asking the user until a valid `number` is given\n",
        "*  when a valid `number` is given, display the message \"You have entered an outlier\" and end the program  \n",
        "\n",
        "Test input:  \n",
        "34  \n",
        "\n",
        "Expected output:  \n",
        "You have entered an outlier  \n",
        "\n",
        "Test input:  \n",
        "44  \n",
        "50  \n",
        "40  \n",
        "34  \n",
        "\n",
        "Expected output:  \n",
        "This is not an outlier  \n",
        "This is not an outlier  \n",
        "This is not an outlier  \n",
        "You have entered an outlier  "
      ]
    },
    {
      "cell_type": "code",
      "metadata": {
        "id": "9vzat0W21tNA",
        "colab": {
          "base_uri": "https://localhost:8080/"
        },
        "outputId": "86765d6f-665b-40a9-b454-7dca695b1b85"
      },
      "source": [
        "def get_test_outlier():\n",
        "  num = 0\n",
        "  loop = bool()\n",
        "  message = []\n",
        "  while loop == False:\n",
        "    num = int(input(\"Enter number : \"))\n",
        "    print(num)\n",
        "    if 39 < num < 51:\n",
        "      message=(\"This is not an outlier\") \n",
        "    else:\n",
        "      message=(\"You have entered an outlier\" )\n",
        "      loop = True\n",
        "    print(message)\n",
        "get_test_outlier()"
      ],
      "execution_count": 52,
      "outputs": [
        {
          "output_type": "stream",
          "name": "stdout",
          "text": [
            "Enter number : 50\n",
            "50\n",
            "This is not an outlier\n",
            "Enter number : 51\n",
            "51\n",
            "You have entered an outlier\n"
          ]
        }
      ]
    },
    {
      "cell_type": "markdown",
      "metadata": {
        "id": "Ig_WrlmPWG4v"
      },
      "source": [
        "---\n",
        "### Exercise 8 - Guess the number  \n",
        "\n",
        "Write a function called **guess_number(number)** which will:  \n",
        "\n",
        "Ask the user to guess the number within 6 attempts.  \n",
        "\n",
        "The function will be given a random number (called `number`) and should use a while loop that will continue while the user has not guessed correctly and has had less than 6 attempts (don't forget to set the number of attempts to 0 before the loop and increment it every time a guess is made).  \n",
        "\n",
        "In the loop:  \n",
        "\n",
        "*  ask the user to enter a **guess**  \n",
        "*  if the `guess` is greater than the `number` print \"Too high\", if less than the number print \"Too low\" or if correct print \"You guessed it\"  \n",
        "*  count the `attempt`  \n",
        "\n",
        "After the loop if the maximum attempts has been reached, print \"Too many attempts\"\n",
        "\n",
        "\n"
      ]
    },
    {
      "cell_type": "code",
      "metadata": {
        "id": "7qagArrHWHGV",
        "colab": {
          "base_uri": "https://localhost:8080/"
        },
        "outputId": "ef102ef0-bf3e-4326-dc11-917520dcbdef"
      },
      "source": [
        "from random import randint\n",
        "\n",
        "def guess_number(number):\n",
        "  # add your code below here, remembering to indent\n",
        "\n",
        "  attempts = 1\n",
        "  guess = 0\n",
        "  message= []\n",
        "  \n",
        "  while attempts <=6:\n",
        "    guess = int(input(\"Enter number between 1 - 50 : \"))\n",
        "    if guess == number:\n",
        "      message =(\"You guessed it in \" +str(attempts) + \" attempt\")\n",
        "      print(message)\n",
        "      break\n",
        "    elif guess < number:\n",
        "      message =(\"Too low\")\n",
        "    elif guess > number:\n",
        "      message =(\"Too high\")\n",
        "    attempts = attempts + 1 \n",
        "    print(message) \n",
        "  else:\n",
        "    message= (\"Too many attempts, the number was \" + str(number))\n",
        "    print(message)\n",
        "guess_number(randint(1,50))"
      ],
      "execution_count": 57,
      "outputs": [
        {
          "output_type": "stream",
          "name": "stdout",
          "text": [
            "Enter number between 1 - 50 : 25\n",
            "Too high\n",
            "Enter number between 1 - 50 : 13\n",
            "Too high\n",
            "Enter number between 1 - 50 : 6\n",
            "Too high\n",
            "Enter number between 1 - 50 : 3\n",
            "Too low\n",
            "Enter number between 1 - 50 : 4\n",
            "Too low\n",
            "Enter number between 1 - 50 : 5\n",
            "You guessed it in 6 attempt\n"
          ]
        }
      ]
    }
  ]
}