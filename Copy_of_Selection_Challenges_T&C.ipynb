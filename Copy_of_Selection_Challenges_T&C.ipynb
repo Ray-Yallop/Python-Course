{
  "nbformat": 4,
  "nbformat_minor": 0,
  "metadata": {
    "colab": {
      "provenance": [],
      "include_colab_link": true
    },
    "kernelspec": {
      "name": "python3",
      "display_name": "Python 3"
    }
  },
  "cells": [
    {
      "cell_type": "markdown",
      "metadata": {
        "id": "view-in-github",
        "colab_type": "text"
      },
      "source": [
        "<a href=\"https://colab.research.google.com/github/Ray-Yallop/Python-Course/blob/main/Copy_of_Selection_Challenges_T%26C.ipynb\" target=\"_parent\"><img src=\"https://colab.research.google.com/assets/colab-badge.svg\" alt=\"Open In Colab\"/></a>"
      ]
    },
    {
      "cell_type": "markdown",
      "source": [],
      "metadata": {
        "id": "J33r1sZHG9Pi"
      }
    },
    {
      "cell_type": "markdown",
      "metadata": {
        "id": "-QxAKPD8DZfj"
      },
      "source": [
        "# Three selection challenges\n",
        "\n",
        "---\n"
      ]
    },
    {
      "cell_type": "markdown",
      "metadata": {
        "id": "2KYUALILDcM9"
      },
      "source": [
        "### Challenge 1 - access code format  \n",
        "\n",
        "Users of the noticeboard app will login in with an email address and an access code.  \n",
        "\n",
        "Write a function called **check_valid_code(access_code)** which will check the validity of an **access_code** given to it in its brackets.\n",
        "\n",
        "Rules for a valid access code are:  \n",
        "\n",
        "*  At least 1 letter between [A-Z].\n",
        "*  At least 1 number between [0-9].\n",
        "*  At least 1 character from [$#@].\n",
        "*  Length 12 characters. \n",
        "\n",
        "Print a message to state if the `access code` is valid and, if not, where was the first error (A-Z missing or 0-9 missing, etc).\n",
        "\n",
        "*Hint:  to test if a set of characters is present in an access_code String, you can use re.search('[character set]', `access_code`)*  \n",
        "\n",
        "Example:   \n",
        "*if re.search('[A-Z]',`access_code`):*    \n",
        "if there is at least 1 character A-Z in the `access_code`, re.search will not be None.\n",
        "\n",
        "**re** is a pre-written Python function for pattern searching in Strings.  It has been imported for you in the code cell below.  \n",
        "\n",
        "### Test 1\n",
        "Run the function with the following call:  \n",
        "\n",
        "`check_valid_code(\"ABC032RF$#12\")`\n",
        "\n",
        "The expected output is \"The code is valid\"\n",
        "\n",
        "### Test 2\n",
        "Run the function with the following call:  \n",
        "\n",
        "`check_valid_code(\"ABC$$PFD#@\")`\n",
        "\n",
        "The expected output is \"The code is invalid, it has no number digits\"  \n",
        "\n",
        "### Test 3\n",
        "Run the function with the following call:  \n",
        "\n",
        "`check_valid_code(\"ABC$$12PFD#@3\")`\n",
        "\n",
        "The expected output is \"The code is invalid, it has the wrong number of characters\" "
      ]
    },
    {
      "cell_type": "code",
      "metadata": {
        "id": "8wBK9IA4BO2e",
        "colab": {
          "base_uri": "https://localhost:8080/"
        },
        "outputId": "13497276-839d-418d-9895-66a9168971b1"
      },
      "source": [
        "from typing_extensions import Counter\n",
        "from pickle import TRUE\n",
        "  # add your check_valid_code() function and call below here\n",
        "\n",
        "def get_check_valid_code(access_code):\n",
        "  import re \n",
        "  alpha = bool()\n",
        "  number = bool()\n",
        "  spchar = bool()\n",
        "  output = []\n",
        "\n",
        "  for x in access_code: \n",
        "\n",
        "    # Check for 1 alphabetic character\n",
        "    if alpha == False:\n",
        "      if re.search('[A-Z]',x):\n",
        "        alpha = True\n",
        "      \n",
        "    # Check for 1 number\n",
        "    if number == False:\n",
        "      if re.search('[0-9]',x):\n",
        "        number = True\n",
        "  \n",
        "    # Check for 1 special character\n",
        "    if spchar == False:\n",
        "      if re.search('[$#@]',x):\n",
        "        spchar = True\n",
        "\n",
        "  if    alpha ==   False:\n",
        "          output = \"The code is invalid, it has no alphabetic characters\"\n",
        "  elif  number ==  False:\n",
        "          output = \"The code is invalid, it has no digits\"  \n",
        "  elif  spchar ==  False:\n",
        "          output = \"The code is invalid, it has no special characters $,#,@\"\n",
        "  elif (len(access_code)) != 12:  # Check Length 12 characters\n",
        "          output = \"The code is invalid, it has the wrong number of characters\"\n",
        "  else:\n",
        "          output = \"The code is valid\"\n",
        "  \n",
        "  print(output)\n",
        "\n",
        "get_check_valid_code(\"ABC032RF$#12\") # Valid\n",
        "#get_check_valid_code(\"1293$$$$$2#@\") # No alphabetic characters \n",
        "#get_check_valid_code(\"ABC$$PFD#@BV\") # No digits\n",
        "#get_check_valid_code(\"ABCMBPFD12BV\") # No special characters $,#,@\n",
        "#get_check_valid_code(\"ABC$$PFD#@\")   # Wrong number of characters"
      ],
      "execution_count": null,
      "outputs": [
        {
          "output_type": "stream",
          "name": "stdout",
          "text": [
            "The code is valid\n"
          ]
        }
      ]
    },
    {
      "cell_type": "markdown",
      "metadata": {
        "id": "f0R4GYTEFQS-"
      },
      "source": [
        "---\n",
        "### Challenge 2 - locator  \n",
        "\n",
        "When a user first accesses the app, their GPS position will be used to determine which location they are in.  \n",
        "\n",
        "GPS coordinates are expressed as a latitude (lat) and a longitude (lon).  \n",
        "\n",
        "A rectangular area covering Medway can be defined to have the following bounding co-ordinates:\n",
        "\n",
        "\n",
        "![Map](https://drive.google.com/uc?id=1XCgYy0dJ_8aanusTCbYSub6W9SGw_fov)\n",
        "\n",
        "\n",
        "Top (lat):  51.48586836145452   \n",
        "Left (lon): 0.46367947236595175  \n",
        "Bottom (lat): 51.33662496338446  \n",
        "Right (lon): 0.7225833875971361  \n",
        "\n",
        "Write a function called **locate_user(lat, lon)** which will be given the co-ordinates for the user's current position and will decide, and print, if that user is located in Medway or not.  \n",
        "\n",
        "\n",
        "### Test 1\n",
        "Run the function with these co-ordinates:\n",
        "\n",
        "`locate_user(51.42015170639725, 0.4855652376565944)`\n",
        "\n",
        "The expected output is that \"This user is in Medway\"  \n",
        "\n",
        "### Test 2\n",
        "Run the function with these co-ordinates:\n",
        "\n",
        "`locate_user(51.44709781078563, 0.19080357058032646)`\n",
        "\n",
        "The expected output is that \"This user is NOT in Medway\"  "
      ]
    },
    {
      "cell_type": "code",
      "metadata": {
        "id": "oBgl4ro1DVL0",
        "colab": {
          "base_uri": "https://localhost:8080/"
        },
        "outputId": "3a2aa75f-55cb-45bc-c0a4-5b9e1bd8db1e"
      },
      "source": [
        "def get_locate_user(lat, lon):\n",
        " # Medway area \n",
        "  top_lat     = 51.48586836145452\n",
        "  bottom_lat  = 51.33662496338446\n",
        "  left_lon    = 0.46367947236595175\n",
        "  right_lon   = 0.7225833875971361\n",
        "  \n",
        "  output = []\n",
        "\n",
        "  if bottom_lat <= lat <=  top_lat and left_lon <= lon <= right_lon:\n",
        "    output =\"This user is in Medway\"\n",
        "  else:\n",
        "    output =\"This user is NOT in Medway\"\n",
        "  print(output)\n",
        "\n",
        "#get_locate_user(51.44709781078563, 0.19080357058032646)  # Is NOT in Medway  \n",
        "get_locate_user(51.42015170639725, 0.4855652376565944)   # Is in Medway"
      ],
      "execution_count": null,
      "outputs": [
        {
          "output_type": "stream",
          "name": "stdout",
          "text": [
            "This user is in Medway\n"
          ]
        }
      ]
    },
    {
      "cell_type": "markdown",
      "metadata": {
        "id": "hr2EotkqG33l"
      },
      "source": [
        "---\n",
        "### Challenge 3 - which season\n",
        "\n",
        "This won't be in the first version of the app but could be a nice to have feature for a later version.  An automatic category could choose notices by season.\n",
        "\n",
        "Write a function called **determine_season(month, day)** which will be given two integers representing a **month** and **day** and will print the season for that month and day.\n",
        "\n",
        "*Note*:  for this exercise the season dates are:\n",
        "*  Winter December 21 to March 20    \n",
        "*  Spring March 21 to June 20  \n",
        "*  Summer June 21 to September 20  \n",
        "*  Autumn September 21 to December 20\n",
        "\n",
        "### Test 1:  \n",
        "Run the function to check the date 31st July                     \n",
        "\n",
        "`determine_season(7, 31)`                                                     \n",
        "\n",
        "Expected output:  \n",
        "Season is summer  \n",
        "\n",
        "### Test 2:  \n",
        "Run the function to check the date 2nd November                     \n",
        "\n",
        "`determine_season(11, 2)`                                                     \n",
        "\n",
        "Expected output:  \n",
        "Season is autumn  \n",
        "\n",
        "*Note: this will require multiple `and` or `or` operators and you should use brackets to help Python know which operations to do first*  \n",
        "\n",
        "*For an extra challenge you could check that the day is valid for the month and print an error if so*"
      ]
    },
    {
      "cell_type": "code",
      "metadata": {
        "id": "cvbfz8nzG4IL",
        "colab": {
          "base_uri": "https://localhost:8080/"
        },
        "outputId": "53322590-5e8a-41ea-edf0-65fa3e7c9b16"
      },
      "source": [
        "def get_determine_season(month, day):\n",
        "  \n",
        "  # Month short names\n",
        "  mth_nar= [\"Dummy\",\"Jan\",\"Feb\", \"Mar\",\"Apr\",\"May\",\"Jun\",\"Jly\", \"Aug\",\"Sep\",\"Oct\",\"Nov\",\"Dec\"]\n",
        "  # 30 day months\n",
        "  mth_list = [4, 6, 9, 11]  \n",
        "  output = []\n",
        "\n",
        "  mth_day = (month * 100) + day\n",
        "  if month > 12:                # Invalid month >12\n",
        "    output = (str(month) + \" invalid month\")\n",
        "  elif day > 31:                # Invalid day > 31\n",
        "    output = (str(day) + \" invalid day\")\n",
        "  # Validate month / day\n",
        "  elif (month == 2 and day > 28) or (month in mth_list and day > 30):\n",
        "    output = (str(day) + \" invalid for month \" + str(mth_nar[month]))\n",
        "\n",
        "  # no error - get season\n",
        "  elif 321 <= mth_day <= 620:\n",
        "    output = \"Season is Spring\" # Spring March 21 to June 20\n",
        "  elif 621 <= mth_day <= 920:   \n",
        "    output = \"Season is Summer\" # Summer June 21 to September 20\n",
        "  elif 921 <= mth_day <= 1220:\n",
        "    output = \"Season is Autumn\" # Autumn September 21 to December 20\n",
        "  else:                        \n",
        "    output = \"Season is Winter\" # Winter December 21 to March 20\n",
        "\n",
        "  print(output)\n",
        "\n",
        "get_determine_season(11,2)"
      ],
      "execution_count": null,
      "outputs": [
        {
          "output_type": "stream",
          "name": "stdout",
          "text": [
            "Season is Autumn\n"
          ]
        }
      ]
    }
  ]
}