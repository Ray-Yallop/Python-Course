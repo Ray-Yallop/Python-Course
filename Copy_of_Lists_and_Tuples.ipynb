{
  "nbformat": 4,
  "nbformat_minor": 0,
  "metadata": {
    "colab": {
      "provenance": [],
      "toc_visible": true,
      "include_colab_link": true
    },
    "kernelspec": {
      "name": "python3",
      "display_name": "Python 3"
    },
    "language_info": {
      "name": "python"
    }
  },
  "cells": [
    {
      "cell_type": "markdown",
      "metadata": {
        "id": "view-in-github",
        "colab_type": "text"
      },
      "source": [
        "<a href=\"https://colab.research.google.com/github/Ray-Yallop/Python-Course/blob/main/Copy_of_Lists_and_Tuples.ipynb\" target=\"_parent\"><img src=\"https://colab.research.google.com/assets/colab-badge.svg\" alt=\"Open In Colab\"/></a>"
      ]
    },
    {
      "cell_type": "markdown",
      "metadata": {
        "id": "Z-M-RCWATK71"
      },
      "source": [
        "# Lists and tuples\n",
        "\n",
        "Often we need to store a number of single items of data together so that they can be processed together. This might be because all the data refers to one person (e.g. name, age, gender, etc) OR it might be because we have a set of data (e.g. all the items that should be displayed in a drop down list, such as all the years from this year back to 100 years ago so that someone can select their year of birth)\n",
        "\n",
        "Python has a range of data structures available including:\n",
        "*   lists  \n",
        "*   tuples  \n",
        "*   dictionaries  \n",
        "*   sets\n",
        "\n",
        "This worksheet looks at lists and tuples.\n",
        "\n",
        "## List\n",
        "A list is a set of related, individual data objects, that are indexed and can be processed as a whole, as subsets or as individual items.  Lists are stored, essentially, as contiguous items in memory so that access can be as quick as possible.  However, they are mutable (they can be changed after they are created and stored) and so those mechanisms need to include extra functionality to deal with changing list sizes.\n",
        "\n",
        "## Tuple\n",
        "Essentially the same as a list but it is immutable.  Once it has been created it can't be changed.  It is stored in memory as contiguous items, with the size required being fixed right from the start.  This makes it faster to access.\n",
        "\n",
        "The code below will create two lists and a tuple.\n",
        "*   the first list contains 1000 random numbers between 1 and 100\n",
        "*   the second list is of random length (up to 5000) and each item is one of the 9 characteristics that are protected under the Equality Act in the UK.\n",
        "*   the tuple contains the 9 protected characteristics\n",
        "\n",
        "Before you start the exercises, run the code cell below.  It will generate the lists and tuple so that you can use them in the exercises.  If you need to recreate the lists again (because you have changed them and need to work on the originals, just run this cell again).\n",
        "\n",
        "***Note:***  *a list variable contains a reference to the start of the list in memory, rather than storing the list itself.  This means that if you assign the list to another variable (to make a copy), it will only copy across the reference.  If you change the copy, you change the original list.*\n",
        "\n",
        "*If you need to make a copy of the list you will need to use a loop to create a new list and copy all items across.*"
      ]
    },
    {
      "cell_type": "code",
      "metadata": {
        "id": "BDRckXeQXFMT"
      },
      "source": [
        "from random import randint, choice\n",
        "\n",
        "def get_num_list():\n",
        "  num_list = [randint(1,100) for n in range(1000)]\n",
        "  return num_list\n",
        "\n",
        "def get_protected_characteristics():\n",
        "  characteristics_tuple = ('age','disability','gender reassignment',\n",
        "                           'marriage and civil partnership','pregnancy and maternity',\n",
        "                           'race','religion or belief', 'sex','sexual orientation')\n",
        "  return characteristics_tuple\n",
        "\n",
        "def get_protected_characteristic_list(protected_characteristics):\n",
        "  char_list = [choice(protected_characteristics) for ch in range(randint(1,5000))]\n",
        "  return char_list\n",
        "\n",
        "nums = get_num_list()\n",
        "protected_characteristics = get_protected_characteristics()\n",
        "characteristics = get_protected_characteristic_list(protected_characteristics)"
      ],
      "execution_count": null,
      "outputs": []
    },
    {
      "cell_type": "markdown",
      "metadata": {
        "id": "xXT38-4ZV45n"
      },
      "source": [
        "## The exercises below will use the lists:  \n",
        "*   **nums** (a list of between 1 and 1000 random numbers, each number is between 0 and 1000)\n",
        "*   **characteristics** (a list of 5000 random protected_characteristics)\n",
        "\n",
        "and the tuple:\n",
        "*  **protected_characteristics** (a set of the 9 protected characteristics identified in the Equality Act)\n",
        "\n",
        "## You can run the cell above any number of times to generate new lists."
      ]
    },
    {
      "cell_type": "markdown",
      "metadata": {
        "id": "Ft0dXl7fUuaK"
      },
      "source": [
        "---\n",
        "### Exercise 1 - list head, tail and shape\n",
        "\n",
        "Write a function, **describe_list()** which will:\n",
        "*  print the length of the list `nums`\n",
        "*  print the first 10 items in `nums`  \n",
        "*  print the last 5 items in `nums`\n",
        "\n",
        "**Expected output**  \n",
        "Length is between 1 and 1000  \n",
        "A list of 10 numbers between 1 and 100  \n",
        "A list of 5 numbers between 1 and 100  "
      ]
    },
    {
      "cell_type": "code",
      "metadata": {
        "id": "jUcZD7mmTJdA",
        "colab": {
          "base_uri": "https://localhost:8080/"
        },
        "outputId": "71104b44-8f47-43cb-f77f-a32582e3516f"
      },
      "source": [
        "def describe_list():\n",
        "  #write a function to print items from the list\n",
        "  count = 0\n",
        "  length = len(nums)\n",
        "\n",
        "  print(\"length: \" + str(length))\n",
        "  print(\"First 10 in list\")\n",
        "  \n",
        "  while count < 10: # Print first 10 numbers in list nums\n",
        "    print(\"Item: \" + str(count) + \" value: \" + str(nums[count]))\n",
        "    count = count + 1\n",
        "\n",
        "  print(\"Last 5 in list\")\n",
        "  count = length - 5 # Start of last 5 numbers in list\n",
        "\n",
        "  while count < int(len(nums)): # Print last 5 numbers in list nums\n",
        "    print(\"Item : \" + str(count) + \" value: \" + str(nums[count]))\n",
        "    count = count + 1\n",
        "\n",
        "  # run the describe_list() function and observe the output\n",
        "describe_list()"
      ],
      "execution_count": null,
      "outputs": [
        {
          "output_type": "stream",
          "name": "stdout",
          "text": [
            "length: 1000\n",
            "First 10 in list\n",
            "Item: 0 value: 68\n",
            "Item: 1 value: 7\n",
            "Item: 2 value: 66\n",
            "Item: 3 value: 71\n",
            "Item: 4 value: 33\n",
            "Item: 5 value: 82\n",
            "Item: 6 value: 98\n",
            "Item: 7 value: 71\n",
            "Item: 8 value: 71\n",
            "Item: 9 value: 43\n",
            "Last 5 in list\n",
            "Item : 995 value: 98\n",
            "Item : 996 value: 85\n",
            "Item : 997 value: 95\n",
            "Item : 998 value: 37\n",
            "Item : 999 value: 75\n"
          ]
        }
      ]
    },
    {
      "cell_type": "markdown",
      "metadata": {
        "id": "yNWg08k6bXv0"
      },
      "source": [
        "---\n",
        "### Exercise 2 - show tuple items\n",
        "\n",
        "Write a function which will:\n",
        "*   use a loop to print the list of protected characteristics from the `protected_characteristics` tuple.\n"
      ]
    },
    {
      "cell_type": "code",
      "metadata": {
        "id": "P2HnCG9pb1BS",
        "colab": {
          "base_uri": "https://localhost:8080/"
        },
        "outputId": "7fc35498-5b49-40b1-8e82-1226da347fa2"
      },
      "source": [
        "def print_protected_chars():\n",
        "  #print(str(len(characteristics_tuple)))\n",
        "  count = 0\n",
        "  length =len(protected_characteristics)\n",
        "\n",
        "  while count < length: # Print protected_characteristics tuple]\n",
        "    print(\"Protected characteristic: \" + str(count) + \" \" + str(protected_characteristics[count]))\n",
        "    count = count + 1\n",
        "  \n",
        "# run the function print_protected_chars()\n",
        "print_protected_chars()"
      ],
      "execution_count": null,
      "outputs": [
        {
          "output_type": "stream",
          "name": "stdout",
          "text": [
            "Protected characteristic: 0 age\n",
            "Protected characteristic: 1 disability\n",
            "Protected characteristic: 2 gender reassignment\n",
            "Protected characteristic: 3 marriage and civil partnership\n",
            "Protected characteristic: 4 pregnancy and maternity\n",
            "Protected characteristic: 5 race\n",
            "Protected characteristic: 6 religion or belief\n",
            "Protected characteristic: 7 sex\n",
            "Protected characteristic: 8 sexual orientation\n"
          ]
        }
      ]
    },
    {
      "cell_type": "markdown",
      "metadata": {
        "id": "RTSuQZs4b1JU"
      },
      "source": [
        "---\n",
        "### Exercise 3 - list a random subset\n",
        "\n",
        "Write a function which will:\n",
        "*  calculate the position of the middle item in the `characteristics` list   \n",
        "(*Hint: use len() to help with this*)\n",
        "*  calculate the position of the item that is 5 places before the middle item\n",
        "*  calculate the position of the item that is 5 places after the middle item\n",
        "*  print the part of the list that includes the items from 5 places before to 5 places after.  \n",
        "\n",
        "Expected output:  \n",
        "Your list will include 10 items."
      ]
    },
    {
      "cell_type": "code",
      "metadata": {
        "id": "OwhFnH2kdC11",
        "colab": {
          "base_uri": "https://localhost:8080/"
        },
        "outputId": "77595d42-50c6-450a-93bd-65b4916eef63"
      },
      "source": [
        "def print_mid_items(): \n",
        "  #write a function that will find the middle of a list and print the items either side of it\n",
        "\n",
        "  num_list = 0                      # Number in list \n",
        "  mid_list = 0                      # Middle of list\n",
        "  end_num = 0                       # End position\n",
        "  start_num  = 0                    # Start point\n",
        "   \n",
        "  num_list = len(characteristics)\n",
        "  mid_list = num_list % 2           # Test for odd number \n",
        "  if mid_list > 0 :\n",
        "    mid_list = (num_list // 2) + 1  # Odd number\n",
        "  else:\n",
        "    mid_list = num_list // 2\n",
        "\n",
        "  print(\"Number of element in the list characteristics is: \" + str(num_list))\n",
        "  print(\"Mid point element in the list characteristics is: \" + str(mid_list) \n",
        "        + \" \" + characteristics[mid_list-1])\n",
        "\n",
        "  start_num = mid_list - 5          # Initialise count 5 prior to mid\n",
        "  end_num = mid_list + 5            # End 5 after mid\n",
        "\n",
        "  while start_num <= end_num:\n",
        "    if start_num != mid_list:       # Ignore mid point \n",
        "     print(str(start_num) + \" \" + characteristics[start_num-1])\n",
        "    start_num = start_num + 1\n",
        "  \n",
        "print_mid_items()"
      ],
      "execution_count": null,
      "outputs": [
        {
          "output_type": "stream",
          "name": "stdout",
          "text": [
            "Number of element in the list characteristics is: 3717\n",
            "Mid point element in the list characteristics is: 1859 race\n",
            "1854 religion or belief\n",
            "1855 sex\n",
            "1856 marriage and civil partnership\n",
            "1857 gender reassignment\n",
            "1858 race\n",
            "1860 disability\n",
            "1861 gender reassignment\n",
            "1862 gender reassignment\n",
            "1863 disability\n",
            "1864 age\n"
          ]
        }
      ]
    },
    {
      "cell_type": "markdown",
      "metadata": {
        "id": "KS0x3oFNePI9"
      },
      "source": [
        "---\n",
        "### Exercise 4 - create a copy\n",
        "\n",
        "Write a function which will use a for loop to create a copy of the `nums` list:\n",
        "\n",
        "*   create a new, empty, list called **new_nums**  (*Hint: an empty list is [ ]*)\n",
        "*   use a `for` loop which uses the following syntax:  `for num in nums:`\n",
        "*   each time round the loop append `num` to `new_nums`  ( *`new_nums.append(num)`*)\n",
        "*   print the first 10 items of `new_nums`\n",
        "*   print the first 10 items of `nums`\n",
        "*   print the length of both lists"
      ]
    },
    {
      "cell_type": "code",
      "metadata": {
        "id": "mpK1Ip3we-uC",
        "colab": {
          "base_uri": "https://localhost:8080/"
        },
        "outputId": "124f0082-ae87-44f6-bf33-4cb0d7c06cf8"
      },
      "source": [
        "def display_new_nums():\n",
        "  #write a function to use a for loop to create a copy of new_nums and print given items\n",
        "  new_nums = [] # New numbers\n",
        "  x = 0\n",
        "\n",
        "  print(len(nums))\n",
        "  print(len(new_nums))\n",
        "  for num in nums:\n",
        "    new_nums.append(num)\n",
        "\n",
        "  print(\"new_nums first 10 items\")\n",
        "  while x <=10:\n",
        "    print(new_nums[x])\n",
        "    x = x + 1\n",
        "  x = 0 \n",
        "  print(\"Total in list new_nums :\" + str(len(new_nums)))\n",
        "   \n",
        "  print(\"nums first 10 items\")\n",
        "  while x <=10:\n",
        "    print(nums[x])\n",
        "    x = x + 1 \n",
        "  print(\"Total in list nums :\" + str(len(nums))) \n",
        "\n",
        "# run the function display_new_nums() and observe\n",
        "display_new_nums()"
      ],
      "execution_count": null,
      "outputs": [
        {
          "output_type": "stream",
          "name": "stdout",
          "text": [
            "1000\n",
            "0\n",
            "new_nums first 10 items\n",
            "28\n",
            "39\n",
            "70\n",
            "10\n",
            "74\n",
            "88\n",
            "38\n",
            "10\n",
            "29\n",
            "91\n",
            "22\n",
            "Total in list new_nums :1000\n",
            "nums first 10 items\n",
            "28\n",
            "39\n",
            "70\n",
            "10\n",
            "74\n",
            "88\n",
            "38\n",
            "10\n",
            "29\n",
            "91\n",
            "22\n",
            "Total in list nums :1000\n",
            "1000\n",
            "1000\n"
          ]
        }
      ]
    },
    {
      "cell_type": "markdown",
      "metadata": {
        "id": "deUIFWjRe-3G"
      },
      "source": [
        "---\n",
        "### Exercise 5 - count the occurrence of age in characteristics\n",
        "\n",
        "Write a function which will use the list method:\n",
        "\n",
        "`list_name.count(item)`\n",
        "\n",
        "to count the number of occurrences of 'age' in the `characteristics` list.  Print the result."
      ]
    },
    {
      "cell_type": "code",
      "metadata": {
        "id": "b9TrHQ9hfoIU",
        "colab": {
          "base_uri": "https://localhost:8080/"
        },
        "outputId": "4d0f754f-2e66-43bf-f753-b51d7d381f8a"
      },
      "source": [
        "def count_age(item):\n",
        "  #write a function to count the occurrences of \"age\"\n",
        "  count = 0\n",
        "  count = characteristics.count(item)\n",
        "  \n",
        "  print(\"There are \" + str(count) + \" occurrences of \" + item  + \" in the list\")\n",
        "\n",
        "  # run the function count_age() and observe the result\n",
        "count_age(\"age\")"
      ],
      "execution_count": null,
      "outputs": [
        {
          "output_type": "stream",
          "name": "stdout",
          "text": [
            "There are 272 occurrences of age in the list\n"
          ]
        }
      ]
    },
    {
      "cell_type": "markdown",
      "metadata": {
        "id": "zm2VI5RmfoSy"
      },
      "source": [
        "---\n",
        "### Exercise 6 - sort the nums list\n",
        "\n",
        "Write a function which will:\n",
        "*   call the function `get_num_list()` and store the result in a new list called **sort_nums**\n",
        "*   print the first, and last, 20 items in the `sort_nums` list\n",
        "*   use the `list_name.sort()` method to sort the `sort_nums` list into ascending order\n",
        "*   print the first, and last, 20 items again  \n",
        "*   use the `list_name.sort()` method again to sort the `sort_nums` list into descending order\n",
        "*   print the first, and last, 20 items again"
      ]
    },
    {
      "cell_type": "code",
      "metadata": {
        "id": "Fksgpj9JgWDs",
        "colab": {
          "base_uri": "https://localhost:8080/"
        },
        "outputId": "21a1a1b0-b78f-4638-dc9b-d3f2e9384c5f"
      },
      "source": [
        "def sort_nums():\n",
        "  #write a function to sort the get_num_list() and print given items\n",
        "  \n",
        "  nums = get_num_list()                 # Get random numbers\n",
        "  sort_nums = []                        # nums list worksort list\n",
        "  message = []                          # Work message area \n",
        "  descend = bool()                      # Assending / Descending \n",
        "  y = 1                                 # Initalise print loop\n",
        "  while y <=2:                          # Do loop twice assending/descending\n",
        "    x = 0\n",
        "    count = 1\n",
        "    sort_nums = nums\n",
        "\n",
        "    if descend == False:\n",
        "      sort_nums.sort()                 # Ascending \n",
        "      message =\"Ascending\"\n",
        "      descend = True\n",
        "    else:\n",
        "      sort_nums.sort(reverse = True)   # Descending\n",
        "      message =\"Descending\"\n",
        "\n",
        "    print(message)\n",
        "  \n",
        "    while x < 20:                      # First 20 in sort_nums list\n",
        "      \n",
        "      print(str(count) +\" \" + str(sort_nums[x]))\n",
        "      x = x + 1\n",
        "      count = count + 1\n",
        "\n",
        "    x = (len(sort_nums)-20)\n",
        "    count = x + 1\n",
        "\n",
        "    while x < len(sort_nums):         # Last 20 in sort_nums list\n",
        "      print(str(count) +\" \" + str(sort_nums[x]))\n",
        "      x = x + 1 \n",
        "      count = count + 1\n",
        "\n",
        "    y = y + 1\n",
        " \n",
        "# run the function sort_nums() and observe the results\n",
        "sort_nums()\n"
      ],
      "execution_count": null,
      "outputs": [
        {
          "output_type": "stream",
          "name": "stdout",
          "text": [
            "Ascending\n",
            "1 1\n",
            "2 1\n",
            "3 1\n",
            "4 1\n",
            "5 1\n",
            "6 1\n",
            "7 1\n",
            "8 1\n",
            "9 1\n",
            "10 1\n",
            "11 1\n",
            "12 2\n",
            "13 2\n",
            "14 2\n",
            "15 2\n",
            "16 2\n",
            "17 2\n",
            "18 2\n",
            "19 2\n",
            "20 2\n",
            "981 98\n",
            "982 98\n",
            "983 98\n",
            "984 98\n",
            "985 99\n",
            "986 99\n",
            "987 99\n",
            "988 99\n",
            "989 99\n",
            "990 99\n",
            "991 99\n",
            "992 99\n",
            "993 99\n",
            "994 99\n",
            "995 100\n",
            "996 100\n",
            "997 100\n",
            "998 100\n",
            "999 100\n",
            "1000 100\n",
            "Descending\n",
            "1 100\n",
            "2 100\n",
            "3 100\n",
            "4 100\n",
            "5 100\n",
            "6 100\n",
            "7 99\n",
            "8 99\n",
            "9 99\n",
            "10 99\n",
            "11 99\n",
            "12 99\n",
            "13 99\n",
            "14 99\n",
            "15 99\n",
            "16 99\n",
            "17 98\n",
            "18 98\n",
            "19 98\n",
            "20 98\n",
            "981 2\n",
            "982 2\n",
            "983 2\n",
            "984 2\n",
            "985 2\n",
            "986 2\n",
            "987 2\n",
            "988 2\n",
            "989 2\n",
            "990 1\n",
            "991 1\n",
            "992 1\n",
            "993 1\n",
            "994 1\n",
            "995 1\n",
            "996 1\n",
            "997 1\n",
            "998 1\n",
            "999 1\n",
            "1000 1\n"
          ]
        }
      ]
    },
    {
      "cell_type": "markdown",
      "metadata": {
        "id": "_OF-Xuj1UrW0"
      },
      "source": [
        "---\n",
        "### Exercise 7 - get statistics (max(), min(), sum() )\n",
        "\n",
        "Write a function which will:\n",
        "*   print the maximum and minimum numbers in the `nums` list  \n",
        "*   print the sum of the `nums` list\n",
        "*   calculate and print the average of the `nums` list (using `len()` to help)"
      ]
    },
    {
      "cell_type": "code",
      "metadata": {
        "id": "9YmYMenZVGod",
        "colab": {
          "base_uri": "https://localhost:8080/"
        },
        "outputId": "61d5e29e-a07e-4743-a9e8-e08d2fc33c1d"
      },
      "source": [
        "def get_stats():\n",
        "  #write a function to use max(), min() and sum() and print the average\n",
        "  nums = get_num_list()                # Get random numbers \n",
        "  max_num = 0                          # Max number \n",
        "  min_num = 0                          # Min number\n",
        "  total = 0                            # Total\n",
        "  average = 0                          # Average\n",
        " \n",
        "  max_num = max(nums)\n",
        "  print(\"Largest number in list is: \" + str(max_num))\n",
        "\n",
        "  min_num = min(nums)\n",
        "  print(\"Smallest number in list is: \"+ str(min_num))\n",
        "\n",
        "  total = sum(nums)\n",
        "  print(\"Total of \" + str(total) + \" in list of is \" + str(len(nums)))\n",
        "\n",
        "  average =(round(total/len(nums),2))\n",
        "  print(\"Average of list is: \" + str(average))\n",
        "# run the function get_stats() and observe the results\n",
        "get_stats()"
      ],
      "execution_count": null,
      "outputs": [
        {
          "output_type": "stream",
          "name": "stdout",
          "text": [
            "Largest number in list is: 100\n",
            "Smallest number in list is: 1\n",
            "Total of 49754 in list of is 1000\n",
            "Average of list is: 49.75\n"
          ]
        }
      ]
    },
    {
      "cell_type": "markdown",
      "metadata": {
        "id": "Mn4tHQ_KVbHa"
      },
      "source": [
        "---\n",
        "### Exercise 8 - percentage difference\n",
        "\n",
        "Write a function which will:\n",
        "*   generate a new list called **get_new_num_stats** using `get_num_list()`\n",
        "*   calculate and print the percentage difference between the first number in each list (as a percentage of the number in the nums list) (*Hint*:  find the difference between the two numbers, divide the difference by the number in `nums` and multiply by 100)\n",
        "*   calculate and print the percentage difference between the last numbers in each list in the same way\n",
        "*   calculate and print the percentage difference between the middle numbers in each list in the same way.\n",
        "*   calculate and print the percentage difference between the sums of each list in the same way"
      ]
    },
    {
      "cell_type": "code",
      "metadata": {
        "id": "nJCQjZIeZL0e",
        "colab": {
          "base_uri": "https://localhost:8080/"
        },
        "outputId": "e0562cf1-1a1f-4dd5-d8c7-1d57d2dff221"
      },
      "source": [
        "from os import X_OK\n",
        "def get_new_num_stats():\n",
        "  #write a function to generate a new list and calculate percentage differences\n",
        "  nums = get_num_list()     # Generate random number list 1 \n",
        "  nums_2 = get_num_list()   # Generate random number list 2 \n",
        "\n",
        "  nums_lst = 0              # Number of items in list 1\n",
        "  nums_lst_2 = 0            # Number of items in list 2\n",
        "  nums_mid = 0              # Number of mid point in list 1\n",
        "  nums_mid_2 = 0            # Number of mid point in list 2\n",
        "  ave_fst = 0               # First average\n",
        "  ave_lst = 0               # Last average\n",
        "  ave_mid = 0               # Mid average\n",
        "  ave_sum = 0               # Sum average\n",
        "\n",
        "  nums_lst = len(nums)\n",
        "  nums_lst_2 = len(nums_2)\n",
        "  \n",
        "  nums_mid = int(len(nums)/2)\n",
        "  nums_mid_2 = int(len(nums_2)/2)\n",
        " \n",
        "  ave_fst = round((nums[0] / nums_2[0] * 100),2 )\n",
        "  print(str(nums[0]) + \" / \" + str(nums_2[0]) + \" * 100 = \" +str( ave_fst))\n",
        "\n",
        "  ave_lst = round((nums[nums_lst-1] / nums_2[nums_lst_2-1] * 100),2)\n",
        "  print(str(nums[nums_lst-1])  + \" / \" + str(nums_2[nums_lst_2-1]) + \" * 100 = \" + str( ave_lst))\n",
        "\n",
        "  ave_mid = round((nums[nums_mid] / nums_2[nums_mid_2] * 100),2)\n",
        "  print(str(nums[nums_mid])  + \" / \" + str(nums_2[nums_mid_2])  + \" * 100 = \" + str( ave_mid))\n",
        "\n",
        "  ave_sum = round((sum(nums) / sum(nums_2) * 100),2)\n",
        "  print(str(sum(nums)) + \" / \" + str(sum(nums_2))  + \" * 100 = \" + str( ave_sum ))\n",
        "\n",
        "  print(ave_fst)\n",
        "  print(ave_lst)\n",
        "  print(ave_mid)\n",
        "  print(ave_sum)\n",
        "  print(nums[0])\n",
        "  print(nums_2[0])\n",
        "  print(nums[nums_lst-1])\n",
        "  print(nums_2[nums_lst_2-1])\n",
        "  print(nums[nums_mid])\n",
        "  print(nums_2[nums_mid])\n",
        "\n",
        "\n",
        "# run the function get_new_num_stats() and observe the results\n",
        "get_new_num_stats()"
      ],
      "execution_count": null,
      "outputs": [
        {
          "output_type": "stream",
          "name": "stdout",
          "text": [
            "90 / 62 * 100 = 145.16\n",
            "68 / 89 * 100 = 76.4\n",
            "74 / 42 * 100 = 176.19\n",
            "53296 / 50705 * 100 = 105.11\n",
            "145.16\n",
            "76.4\n",
            "176.19\n",
            "105.11\n",
            "90\n",
            "62\n",
            "68\n",
            "89\n",
            "74\n",
            "42\n"
          ]
        }
      ]
    },
    {
      "cell_type": "markdown",
      "source": [
        "\n"
      ],
      "metadata": {
        "id": "gJKbeCb9XIBY"
      }
    },
    {
      "cell_type": "markdown",
      "metadata": {
        "id": "pQV2NO8umBSk"
      },
      "source": [
        "# Reflection\n",
        "----\n",
        "\n",
        "## What you learnt through completing this notebook?"
      ]
    },
    {
      "cell_type": "markdown",
      "metadata": {
        "id": "NUVvt2r0mCKq"
      },
      "source": [
        "*Your* answer: The complexities of \"loop within loop\" also to combine problems and eliminate exceptions to achieve result \n",
        "\n"
      ]
    },
    {
      "cell_type": "markdown",
      "metadata": {
        "id": "SOrbWOuFmObq"
      },
      "source": [
        "What caused you the most difficulty?"
      ]
    },
    {
      "cell_type": "markdown",
      "metadata": {
        "id": "G_eGng1GmO78"
      },
      "source": [
        "Your answer: Understanding concepts that are logical to a computer but alien to a human "
      ]
    }
  ]
}