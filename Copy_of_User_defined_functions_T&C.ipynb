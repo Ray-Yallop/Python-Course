{
  "nbformat": 4,
  "nbformat_minor": 0,
  "metadata": {
    "colab": {
      "provenance": [],
      "include_colab_link": true
    },
    "kernelspec": {
      "name": "python3",
      "display_name": "Python 3"
    },
    "language_info": {
      "name": "python"
    }
  },
  "cells": [
    {
      "cell_type": "markdown",
      "metadata": {
        "id": "view-in-github",
        "colab_type": "text"
      },
      "source": [
        "<a href=\"https://colab.research.google.com/github/Ray-Yallop/Python-Course/blob/main/Copy_of_User_defined_functions_T%26C.ipynb\" target=\"_parent\"><img src=\"https://colab.research.google.com/assets/colab-badge.svg\" alt=\"Open In Colab\"/></a>"
      ]
    },
    {
      "cell_type": "markdown",
      "metadata": {
        "id": "_mb8Es9TZFdY"
      },
      "source": [
        "# User-defined functions"
      ]
    },
    {
      "cell_type": "markdown",
      "metadata": {
        "id": "yDPndJACZJKA"
      },
      "source": [
        "---\n",
        "During this course, you have already been writing user-defined functions.  We have introduced these early so that they become second nature to use.  Python is a 'scripting' language, which means that you can just write a list of instructions and click run and it will just run them from first to last.\n",
        "\n",
        "Many other programming languages, including C, C++ and Java, have a structure where you must group instructions into a named set (like a function) before you can run them.  It will be easier to learn new languages later if you have an understanding of the organisation of code into functions.\n",
        "\n",
        "## Definition\n",
        "\n",
        "A function is a set of programming instructions, grouped together and named so that, in essence, they form a new instruction that can be use in other functions.\n",
        "\n",
        "A function should:\n",
        "*   do *one* particular thing (e.g. generate one new piece of data)\n",
        "*   have a *name* that indicates what it does, that name should contain a verb (e.g. get_username(), calculate_sum() )\n",
        "*   accept a number of data items as *parameters* in its brackets\n",
        "*   *return* the one new piece of data it produces or None if no new data is produced.\n",
        "\n",
        "---\n",
        "## Examples\n",
        "Run the code for each to see what it does.\n",
        "\n",
        "\n",
        "\n",
        "\n"
      ]
    },
    {
      "cell_type": "code",
      "metadata": {
        "id": "BRlxHaF9YtoB",
        "colab": {
          "base_uri": "https://localhost:8080/"
        },
        "outputId": "6a6b4cac-ba3e-45ab-bbe1-9aabf15bb53c"
      },
      "source": [
        "def get_username():\n",
        "  username = input(\"Enter your username: \")\n",
        "  return username\n",
        "\n",
        "username = get_username()\n",
        "print(username)"
      ],
      "execution_count": null,
      "outputs": [
        {
          "output_type": "stream",
          "name": "stdout",
          "text": [
            "Enter your username: Albert\n",
            "Albert\n"
          ]
        }
      ]
    },
    {
      "cell_type": "markdown",
      "metadata": {
        "id": "RsSaHvS_bx0i"
      },
      "source": [
        "---\n"
      ]
    },
    {
      "cell_type": "code",
      "metadata": {
        "id": "DraANPGIbd13",
        "colab": {
          "base_uri": "https://localhost:8080/"
        },
        "outputId": "82c416ad-7366-4864-93eb-0c6aae794aef"
      },
      "source": [
        "def calculate_sum(num1, num2):\n",
        "  sum = num1 + num2\n",
        "  return sum\n",
        "\n",
        "total = calculate_sum(4, 7)\n",
        "print(total)"
      ],
      "execution_count": null,
      "outputs": [
        {
          "output_type": "stream",
          "name": "stdout",
          "text": [
            "11\n"
          ]
        }
      ]
    },
    {
      "cell_type": "markdown",
      "metadata": {
        "id": "IaybFpHvbziA"
      },
      "source": [
        "---\n"
      ]
    },
    {
      "cell_type": "code",
      "metadata": {
        "id": "pEldozw1bw9K",
        "colab": {
          "base_uri": "https://localhost:8080/"
        },
        "outputId": "f162b87e-8868-4e01-fa57-355c3d919e02"
      },
      "source": [
        "def show_score(score):\n",
        "  print(\"Your current score is: \", score)\n",
        "  return None\n",
        "\n",
        "show_score(50)"
      ],
      "execution_count": null,
      "outputs": [
        {
          "output_type": "stream",
          "name": "stdout",
          "text": [
            "Your current score is:  50\n"
          ]
        }
      ]
    },
    {
      "cell_type": "markdown",
      "metadata": {
        "id": "S54v0BzZfcle"
      },
      "source": [
        "---\n",
        "## Passing data to functions and returning data from functions\n",
        "\n",
        "Data is passed to a function through its brackets.  The brackets contain the parameter list.  The list can contain zero or more parameters.\n",
        "\n",
        "When the function is called, the parameters (either real values or variables holding values) are added to the function call.  \n",
        "\n",
        "When the function has done its processing it will **return** data to be stored and used elsewhere.  The return instruction stops the function running, wherever it appears in the code, and has the effect of turning the function into a new piece of data.  So:  \n",
        "\n",
        "```\n",
        "answer = calculate_answer(5,7,\"+\")\n",
        "```\n",
        "will run a function called `calculate_anwer` giving it three bits of data (2 numbers and a mathematical symbols).  Once the `calculate_answer` function has run, its returned result will be stored in the variable called `answer`\n"
      ]
    },
    {
      "cell_type": "code",
      "metadata": {
        "id": "nPaM_x2cg2EI",
        "colab": {
          "base_uri": "https://localhost:8080/"
        },
        "outputId": "c3d8c584-3f89-4c48-ccee-bc9992f22bbc"
      },
      "source": [
        "def calculate_answer(num1, num2, operator):\n",
        "  if operator == \"+\":\n",
        "     return num1 + num2\n",
        "  elif operator == \"-\":\n",
        "     return num1 - num2\n",
        "  elif operator == \"*\":\n",
        "     return num1 * num2\n",
        "  elif operator == \"/\":\n",
        "     return num1 / num2\n",
        "  else:\n",
        "     return -999999\n",
        "\n",
        "answer = calculate_answer(5,7,\"+\")\n",
        "print(answer)"
      ],
      "execution_count": null,
      "outputs": [
        {
          "output_type": "stream",
          "name": "stdout",
          "text": [
            "12\n"
          ]
        }
      ]
    },
    {
      "cell_type": "markdown",
      "metadata": {
        "id": "4u3jcpUWg56N"
      },
      "source": [
        "To pass values easily to the function, just add the values in the same order that they are listed in the function definition.  Make sure that the values you pass in are of a type that the function obviously expects."
      ]
    },
    {
      "cell_type": "markdown",
      "metadata": {
        "id": "2pN0AVaTh-HP"
      },
      "source": [
        "---\n",
        "## Global and local variables\n",
        "\n",
        "Each variable in a Python program has a **scope**.  This determines which parts of the program can 'see' that variable. The advantage of variable scope is that it:\n",
        "*   can protect variables from being changed elsewhere in the program due to adding a variable with the same name\n",
        "*   reduces the number of different variable names needed.  If a total in one function is totally unconnected to a total in a different function they can have the same name and only exist while the function each is in is actually running.  This also saves memory.\n",
        "\n"
      ]
    },
    {
      "cell_type": "code",
      "metadata": {
        "colab": {
          "base_uri": "https://localhost:8080/"
        },
        "id": "Ww0WCrVBhNLm",
        "outputId": "7db1e56c-578e-4575-c4e4-5f95232912d6"
      },
      "source": [
        "def calculate_sum(num1, num2):\n",
        "  # add the parameters together and return the total\n",
        "  total = num1 + num2  # here total is a local variable\n",
        "  print(\"Inside the function, local total\", total)\n",
        "  return total\n",
        "\n",
        "total = 0  # here total is a global variable (declared outside any function)\n",
        "\n",
        "# call the calculate_sum function, storing the result in the global variable\n",
        "new_total = calculate_sum(10, 20)\n",
        "print(\"Outside the function, global total\", total)\n",
        "print(\"Outside the function, global new_total, returned from function\", new_total)"
      ],
      "execution_count": null,
      "outputs": [
        {
          "output_type": "stream",
          "name": "stdout",
          "text": [
            "Inside the function, local total 30\n",
            "Outside the function, global total 0\n",
            "Outside the function, global new_total, returned from function 30\n"
          ]
        }
      ]
    },
    {
      "cell_type": "markdown",
      "metadata": {
        "id": "VQ2bk-Qo7jC7"
      },
      "source": [
        "---\n",
        "# Have a go"
      ]
    },
    {
      "cell_type": "markdown",
      "metadata": {
        "id": "iK9GF4T274Na"
      },
      "source": [
        "---\n",
        "### Exercise 1 - get valid digit\n",
        "\n",
        "Write a function called **input_digit()** which will:\n",
        "*  ask the user for a **number** that must be between 0 and 9, if the number is not between 0 and 9 it will keep reading until it gets a valid `number`\n",
        "*  return the valid `number` to be printed by the caller \n",
        "\n",
        "*Hint:  your function will need a while loop in it but will not print the valid digit as the calling instruction will print the vaid digit when it is returned from the function*\n",
        "\n",
        "## Test:  \n",
        "Run the function and enter these numbers(two invalid numbers so the user will be asked to try again twice):  \n",
        "33  \n",
        "-1  \n",
        "8  \n",
        "\n",
        "The expected output is:  \n",
        "```\n",
        "That number is not valid, try again  \n",
        "That number is not valid, try again  \n",
        "8  \n",
        "```"
      ]
    },
    {
      "cell_type": "code",
      "metadata": {
        "id": "lwN-VvkH8Skt",
        "colab": {
          "base_uri": "https://localhost:8080/"
        },
        "outputId": "9e1c848c-a416-4d5f-9923-e4a77b788cf2"
      },
      "source": [
        "def get_input_digit():\n",
        "  digit = 0\n",
        "  inv_digit = bool()\n",
        "\n",
        "  while inv_digit == False:\n",
        "    digit = input('Enter number between 0 - 9 :')\n",
        "    if 0 <= int(digit) <= 9:\n",
        "      inv_digit = True\n",
        "      return digit\n",
        "    else:\n",
        "      print(\"That number is not valid, try again\")\n",
        "    \n",
        "get_input_digit()"
      ],
      "execution_count": null,
      "outputs": [
        {
          "output_type": "stream",
          "name": "stdout",
          "text": [
            "Enter number between 0 - 9 :0\n",
            "0\n"
          ]
        }
      ]
    },
    {
      "cell_type": "markdown",
      "metadata": {
        "id": "v-qE3qQ58THx"
      },
      "source": [
        "---\n",
        "### Exercise 2 - input range\n",
        "\n",
        "Write a function called **input_value(min, max)** which will:  \n",
        "*  read a **number** that must be between `min` and `max` and only return when it has a valid `number`.  The caller will print the `number`.\n",
        "\n",
        "## Test:  \n",
        "Run the function with the numbers 3 and 24 in the brackets (so min = 3 and max = 24)  \n",
        "\n",
        "Enter the following three numbers (2 are out of range and the last is in range)  \n",
        "1  \n",
        "45  \n",
        "20  \n",
        "\n",
        "the expected output is:  \n",
        "```\n",
        "Number is out of range, try again  \n",
        "Number is out of range, try again  \n",
        "20\n",
        "```"
      ]
    },
    {
      "cell_type": "code",
      "metadata": {
        "id": "PKAlW0sr9XR1",
        "colab": {
          "base_uri": "https://localhost:8080/"
        },
        "outputId": "a1e1c424-d76d-471a-fcb3-1266d2b564a3"
      },
      "source": [
        "def get_input_value(min, max):\n",
        "  digit = 0\n",
        "  val_digit = bool()\n",
        "  \n",
        "  while val_digit == False:\n",
        "    digit = input(\"Enter number between \" + str(min) + \" - \" + str(max)+ \" : \")\n",
        "    if min <= int(digit) <= max:\n",
        "      val_digit = True\n",
        "      return digit\n",
        "    else:\n",
        "      print(\"Number is out of range, try again\")\n",
        "\n",
        "digit = get_input_value(3,24)\n",
        "\n",
        "print(digit)"
      ],
      "execution_count": 4,
      "outputs": [
        {
          "output_type": "stream",
          "name": "stdout",
          "text": [
            "Enter number between 3 - 24 : 1\n",
            "Number is out of range, try again\n",
            "Enter number between 3 - 24 : 45\n",
            "Number is out of range, try again\n",
            "Enter number between 3 - 24 : 20\n",
            "20\n"
          ]
        }
      ]
    },
    {
      "cell_type": "markdown",
      "metadata": {
        "id": "MXhunQBG9XkU"
      },
      "source": [
        "---\n",
        "### Exercise 3 - re-using the function\n",
        "\n",
        "Using the same function as in Exercise 2 above, try running it with these function calls:\n",
        "\n",
        "```\n",
        "value1 = input_value(1,10)\n",
        "value2 = input_value(11,20)\n",
        "value3 = input_value(21,30)\n",
        "print(value1, value2, value3)\n",
        "```"
      ]
    },
    {
      "cell_type": "code",
      "metadata": {
        "id": "oVpQJ3ZM9xCJ",
        "colab": {
          "base_uri": "https://localhost:8080/"
        },
        "outputId": "8da588db-6975-446c-f19e-d4e0119f8596"
      },
      "source": [
        "def get_input_value(min, max):\n",
        "  digit = 0\n",
        "  val_digit = bool()\n",
        "  \n",
        "  while val_digit == False:\n",
        "    digit = input(\"Enter number between \" + str(min) + \" - \" + str(max)+ \" : \")\n",
        "    if min <= int(digit) <= max:\n",
        "      return digit\n",
        "    else:\n",
        "      print(\"Number is out of range, try again\")\n",
        "\n",
        "value1 = get_input_value(1,10)\n",
        "value2 = get_input_value(11,20)\n",
        "value3 = get_input_value(21,30)\n",
        "\n",
        "print(\"Value 1: \" + str(value1) + \", Value 2: \" + str(value2)+\", Value 3: \" + str(value3))"
      ],
      "execution_count": 6,
      "outputs": [
        {
          "output_type": "stream",
          "name": "stdout",
          "text": [
            "Enter number between 1 - 10 : 0\n",
            "Number is out of range, try again\n",
            "Enter number between 1 - 10 : 11\n",
            "Number is out of range, try again\n",
            "Enter number between 1 - 10 : 5\n",
            "Enter number between 11 - 20 : 10\n",
            "Number is out of range, try again\n",
            "Enter number between 11 - 20 : 21\n",
            "Number is out of range, try again\n",
            "Enter number between 11 - 20 : 15\n",
            "Enter number between 21 - 30 : 20\n",
            "Number is out of range, try again\n",
            "Enter number between 21 - 30 : 31\n",
            "Number is out of range, try again\n",
            "Enter number between 21 - 30 : 25\n",
            "Value 1: 5, Value 2: 15, Value 3: 25\n"
          ]
        }
      ]
    },
    {
      "cell_type": "markdown",
      "metadata": {
        "id": "P0QwTt7O9xUz"
      },
      "source": [
        "---\n",
        "### Exercise 4 - generate random even number\n",
        "\n",
        "Write a function called **generate_even_number()** that will generate a random, even **number** and return it to the caller, which will print it.\n",
        "\n",
        "*Hint: the function will need to generate the number, check it is an even number, repeat if not and return the number once it has got an even number*.\n",
        "\n",
        "## Test\n",
        "Run the function and check that the only printed number is an even number.  Try doing this a number of times to ensure that it always gives an even number."
      ]
    },
    {
      "cell_type": "code",
      "metadata": {
        "id": "1ccTQxUa-Ok7",
        "colab": {
          "base_uri": "https://localhost:8080/"
        },
        "outputId": "6748ba22-28ca-454d-969d-dcdfc8ddbfb9"
      },
      "source": [
        "def get_generate_even_number(min,max):\n",
        "  import random\n",
        "  rand_num = 0\n",
        "  even = bool()\n",
        "\n",
        "  while even == False:\n",
        "    rand_num = random.randint(min, max)\n",
        "    \n",
        "    if (rand_num % 2) == 0:\n",
        "      return rand_num\n",
        "\n",
        "rand_num = get_generate_even_number(1,99)\n",
        "print(\"Random even number: \" + str(rand_num))"
      ],
      "execution_count": 7,
      "outputs": [
        {
          "output_type": "stream",
          "name": "stdout",
          "text": [
            "Random even number: 78\n"
          ]
        }
      ]
    },
    {
      "cell_type": "markdown",
      "metadata": {
        "id": "LYLGRytk-Ot6"
      },
      "source": [
        "---\n",
        "### Exercise 5 - biggest of 3 numbers\n",
        "\n",
        "Write a function called **check_largest(num1, num2, num3)** which will:  \n",
        "*  select the largest of `num1`, `num2` and `num3` and store this in a variable called **largest**\n",
        "*  return `largest` to the caller, where it will be printed. \n",
        "\n",
        "## Test 1:  \n",
        "\n",
        "`check_largest(3,5,8)`\n",
        "\n",
        "will give expected output 8\n",
        "\n",
        "## Test 2:\n",
        "\n",
        "`check_largest(5,7,2)`\n",
        "\n",
        "will give expected output 7\n",
        "\n",
        "## Test 3:\n",
        "\n",
        "`check_largest(123,45,122)`\n",
        "\n",
        "will give expected output 123  "
      ]
    },
    {
      "cell_type": "code",
      "metadata": {
        "id": "S_LeqEVd__Cc",
        "colab": {
          "base_uri": "https://localhost:8080/"
        },
        "outputId": "504cac12-4dd7-4efe-df0f-cde1ba38bbc0"
      },
      "source": [
        "def get_check_largest(numbers):\n",
        " Largest = 0 \n",
        " largest = max(numbers) \n",
        " return largest\n",
        "\n",
        "largest1 = get_check_largest([3,5,8])\n",
        "largest2 = get_check_largest([5,7,2])\n",
        "largest3 = get_check_largest([123,45,122])\n",
        "\n",
        "print(largest1)\n",
        "print(largest2)\n",
        "print(largest3)"
      ],
      "execution_count": null,
      "outputs": [
        {
          "output_type": "stream",
          "name": "stdout",
          "text": [
            "8\n",
            "7\n",
            "123\n"
          ]
        }
      ]
    },
    {
      "cell_type": "markdown",
      "metadata": {
        "id": "cbrFvknfAO05"
      },
      "source": [
        "---\n",
        "### Exercise 6 - average of 5 numbers\n",
        "\n",
        "Write a function calculate_average(num1, num2, num3, num4, num5) which will calculate the average of the 5 numbers given.  \n",
        "\n",
        "## Test 1:  \n",
        "`\n",
        "`calculate_average(1,2,3,4,5)`\n",
        "\n",
        "will give expected output 3.0\n",
        "\n",
        "## Test 2:\n",
        "`calculate_average(10002, 30004, 5005, 3333333, 12345)` \n",
        "\n",
        "will give expected output 678137.8  "
      ]
    },
    {
      "cell_type": "code",
      "metadata": {
        "id": "BFTEfne8APF5",
        "colab": {
          "base_uri": "https://localhost:8080/"
        },
        "outputId": "afd19592-1a05-4915-d5dc-244a7a408c45"
      },
      "source": [
        "def get_calculate_average(numbers):\n",
        "  \n",
        "  import statistics\n",
        "  average = 0\n",
        "  average = statistics.mean(numbers)\n",
        "  return average\n",
        "\n",
        "average1 =  get_calculate_average([1,2,3,4,5])\n",
        "average2 =  get_calculate_average([10002,30004,5005,3333333,12345])\n",
        "\n",
        "print(average1)\n",
        "print(average2)"
      ],
      "execution_count": null,
      "outputs": [
        {
          "output_type": "stream",
          "name": "stdout",
          "text": [
            "3\n",
            "678137.8\n"
          ]
        }
      ]
    },
    {
      "cell_type": "markdown",
      "metadata": {
        "id": "Z58a7qa1BQ6j"
      },
      "source": [
        "---\n",
        "### Exercise 7 - calculate percentage\n",
        "\n",
        "The TCH noticeboard app team will want to be able to get data on the percentage of notices that have been click on in one particular category, to help to see what type of notice is the most popular\n",
        "\n",
        "Write a function called **calculate_percentage(num_clicked, total)** which will:\n",
        "\n",
        "*  be given the values num_clicked and total in the functions' parameters \n",
        "*  check that num_clicked isn't greater than total (this would be an error) and print an error message if it is\n",
        "*  calculate the percentage num_clicked is of the total (num_clicked divided by total then multiplied by 100)\n",
        "*  return the `percentage`\n",
        "\n",
        "## Test 1:  \n",
        "Run the function with num_clicked 35 and total 350  \n",
        "(e.g. `calculate_percentage(35, 350)` )\n",
        " \n",
        "the expected output is:  \n",
        "10%\n",
        "\n",
        "## Test 2:  \n",
        "Run the function with num_clicked 350 and total 35  \n",
        "(e.g. `calculate_percentage(350, 35)` ) \n",
        "\n",
        "the expected output is:  \n",
        "There has been an error, num_clicked is higher than total  \n",
        "\n",
        "## Test 3:\n",
        "Run the function with num_clicked 0 and total 200  \n",
        "(e.g. `calculate_percentage(0, 200)` )\n",
        " \n",
        "the expected output is:  \n",
        "0%"
      ]
    },
    {
      "cell_type": "code",
      "metadata": {
        "id": "lSHhdyhUBRKr",
        "colab": {
          "base_uri": "https://localhost:8080/"
        },
        "outputId": "d6bf8f2c-d438-4d20-d8c3-b901224f1e85"
      },
      "source": [
        "def get_calculate_percentage(num_clicked, total):\n",
        "  pct = 0\n",
        "\n",
        "  if  num_clicked > total:\n",
        "    pct = \"There has been an error, num_clicked is higher than total\" \n",
        "  elif num_clicked > 0 :\n",
        "    pct =(total/num_clicked)\n",
        "\n",
        "  return pct\n",
        "\n",
        "pct_1 =  get_calculate_percentage(35, 350)\n",
        "pct_2 =  get_calculate_percentage(350, 35)\n",
        "pct_3 =  get_calculate_percentage(0,200)\n",
        "\n",
        "print(\"1 \" + str(pct_1) + \"%\")\n",
        "print(\"2 \" + str(pct_2) + \"%\")\n",
        "print(\"3 \" +str(pct_3) + \"%\")"
      ],
      "execution_count": null,
      "outputs": [
        {
          "output_type": "stream",
          "name": "stdout",
          "text": [
            "1 10.0%\n",
            "2 There has been an error, num_clicked is higher than total%\n",
            "3 0%\n"
          ]
        }
      ]
    },
    {
      "cell_type": "markdown",
      "metadata": {
        "id": "NG2u2VT-CwO6"
      },
      "source": [
        "---\n",
        "### Exercise 8 - reverse a string\n",
        "\n",
        " Write a function called **reverse_string(word)** which will:  \n",
        " \n",
        " *  reverse the letters in the word  \n",
        " *  return the **reversed** `word` for printing\n",
        "\n",
        "[Help if you need it](https://www.w3schools.com/python/python_howto_reverse_string.asp)  \n",
        "\n",
        " ## Test 1  \n",
        " Run the function with the word **tiger**  \n",
        "\n",
        " Expected output:  \n",
        " `regit`\n",
        "\n",
        " ## Test 2:  \n",
        " Run the function with the word **Expected**\n",
        "\n",
        " Expected output:  \n",
        " `detcepxE`"
      ]
    },
    {
      "cell_type": "code",
      "metadata": {
        "id": "OdHYWCJMCwaI",
        "colab": {
          "base_uri": "https://localhost:8080/"
        },
        "outputId": "00e19d96-b7bf-4ee2-fc47-3cdbf587d599"
      },
      "source": [
        "def get_reverse_string(word):\n",
        "  reverse = []\n",
        "  reverse = word[::-1]\n",
        "  return reverse\n",
        "\n",
        "reverse1 = get_reverse_string(\"tiger\")\n",
        "reverse2 = get_reverse_string(\"Expected\")\n",
        "print(reverse1)\n",
        "print(reverse2)"
      ],
      "execution_count": null,
      "outputs": [
        {
          "output_type": "stream",
          "name": "stdout",
          "text": [
            "regit\n",
            "detcepxE\n"
          ]
        }
      ]
    },
    {
      "cell_type": "markdown",
      "metadata": {
        "id": "QPHDjtXXEJ92"
      },
      "source": [
        "---\n",
        "### Exercise 9 - find number of pages\n",
        "\n",
        "Write a function called **calculate_pages(num_notices)** which will:\n",
        "\n",
        "*  create a variable called **notices_per_page** and assign the value 12\n",
        "*  calculate the number of pages required to show the number of notices given in the brackets\n",
        "*  there must be a page for all notices even if the last page is not full\n",
        "*  there must be no empty pages\n",
        "*  the number of notices must be positive, otherwise an error must be shown     \n",
        "\n",
        "## Test 1:  \n",
        "Run the function with the num_notices set at 50 (`calculate_pages(50)` )  \n",
        "\n",
        "Expected output:  \n",
        "`5 pages`\n",
        "\n",
        "## Test 2:  \n",
        "Run the function with the num_notices set at -5    \n",
        "\n",
        "Expected output:  \n",
        "`There was an error, number of notices must be positive`\n",
        "\n",
        "## Test 3:  \n",
        "Run the function with the num_notices set at 0    \n",
        "\n",
        "Expected output:  \n",
        "`0 pages`\n",
        "\n",
        "## Test 4:  \n",
        "Run the function with the num_notices set at 60    \n",
        "\n",
        "Expected output:  \n",
        "`5 pages`\n"
      ]
    },
    {
      "cell_type": "code",
      "metadata": {
        "id": "QAln19ReEKH5",
        "colab": {
          "base_uri": "https://localhost:8080/"
        },
        "outputId": "002d3773-a5ac-4c62-adf6-c5e8f262a386"
      },
      "source": [
        "def get_calculate_pages(num_notices):\n",
        " notices_per_page = 12\n",
        " page = 0\n",
        " Wrk = 0\n",
        " if num_notices <0:\n",
        "  page = (\"There was an error, number of notices must be positive\")\n",
        " else:\n",
        "  page = num_notices // notices_per_page\n",
        "  if num_notices % notices_per_page > 0:\n",
        "    page = page + 1\n",
        " \n",
        " return page\n",
        "\n",
        "page1 =  get_calculate_pages(50) \n",
        "page2 =  get_calculate_pages(-5)  \n",
        "page3 =  get_calculate_pages(0)\n",
        "page4 =  get_calculate_pages(60)\n",
        "\n",
        "print(page1)\n",
        "print(page2)\n",
        "print(page3)\n",
        "print(page4)"
      ],
      "execution_count": null,
      "outputs": [
        {
          "output_type": "stream",
          "name": "stdout",
          "text": [
            "5\n",
            "There was an error, number of notices must be positive\n",
            "0\n",
            "5\n"
          ]
        }
      ]
    },
    {
      "cell_type": "markdown",
      "metadata": {
        "id": "x-JvvWUVFvY8"
      },
      "source": [
        "---\n",
        "### Exercise 10 - palindrome  \n",
        "\n",
        "Write a function called **is_palindrome(word)** which will return True if the `word` passed in is a palindrome (ie it reads the same in reverse) and False if not.\n",
        "\n",
        "*Hint:  remember that upper case and lower case letters are not seen as the same by Python, there are [case conversion](https://www.codecademy.com/learn/learn-python-3/modules/learn-python3-strings/cheatsheet) functions you can use to help with this.*\n",
        "\n",
        "## Test 1:  \n",
        "is_palindrome(\"racecar\")  \n",
        "\n",
        "Expected output:  \n",
        "True\n",
        "\n",
        "## Test 2:  \n",
        "is_palindrome(\"Racecar\")  \n",
        "\n",
        "Expected output:  \n",
        "True\n",
        "\n",
        "## Test 3:  \n",
        "is_palindrome(\"banana\")  \n",
        "\n",
        "Expected output:  \n",
        "False\n",
        " "
      ]
    },
    {
      "cell_type": "code",
      "metadata": {
        "id": "Jx0ZSYl0FvjD",
        "colab": {
          "base_uri": "https://localhost:8080/"
        },
        "outputId": "274a6525-9a6e-472b-9ff6-c4a79dbcfa75"
      },
      "source": [
        "def get_is_palindrome(word):\n",
        "  word_lower = []\n",
        "  reverse = []\n",
        "  message = (\"True \" + str(word) + \" is a palindrome\")\n",
        "  num = 0 \n",
        "  count = 0 \n",
        "\n",
        "  word_lower = word.lower()   # Convert word to lower case\n",
        "  reverse = word_lower[::-1]  # Reverse characters in word\n",
        "  num = len(word)             # No. characters in word\n",
        "\n",
        "  while count < num:\n",
        "    if reverse[count] !=  word_lower[count]:\n",
        "      message = (\"False \" + str(word) + \" is not a palindrome\")\n",
        "      break\n",
        "    count = count + 1\n",
        "  return message\n",
        "\n",
        "message_1 = get_is_palindrome(\"Racecar\")\n",
        "message_2 = get_is_palindrome(\"racecar\")\n",
        "message_3 = get_is_palindrome(\"banana\")\n",
        "\n",
        "print(message_1)\n",
        "print(message_2)\n",
        "print(message_3)"
      ],
      "execution_count": null,
      "outputs": [
        {
          "output_type": "stream",
          "name": "stdout",
          "text": [
            "True Racecar is a palindrome\n",
            "True racecar is a palindrome\n",
            "False banana is not a palindrome\n"
          ]
        }
      ]
    }
  ]
}