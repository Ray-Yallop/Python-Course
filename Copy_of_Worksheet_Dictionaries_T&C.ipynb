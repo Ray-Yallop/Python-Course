{
  "nbformat": 4,
  "nbformat_minor": 0,
  "metadata": {
    "colab": {
      "provenance": [],
      "toc_visible": true,
      "include_colab_link": true
    },
    "kernelspec": {
      "name": "python3",
      "display_name": "Python 3"
    },
    "language_info": {
      "name": "python"
    }
  },
  "cells": [
    {
      "cell_type": "markdown",
      "metadata": {
        "id": "view-in-github",
        "colab_type": "text"
      },
      "source": [
        "<a href=\"https://colab.research.google.com/github/Ray-Yallop/Python-Course/blob/main/Copy_of_Worksheet_Dictionaries_T%26C.ipynb\" target=\"_parent\"><img src=\"https://colab.research.google.com/assets/colab-badge.svg\" alt=\"Open In Colab\"/></a>"
      ]
    },
    {
      "cell_type": "markdown",
      "metadata": {
        "id": "AiiF1h2X4PHP"
      },
      "source": [
        "# Dictionaries\n",
        "\n",
        "---\n",
        "\n",
        "A **dictionary** is a collection of dissimilar data stored together in one *record*. Each item of data has a  (or key) that describes its paired value.  \n",
        "\n",
        "Create a dictionary object by declaring the set of keys and values, e.g.:\n",
        "\n",
        "```\n",
        "   notices = {\n",
        "       \"1\":\"Mentor Flyer\",\n",
        "       \"2\":\"Leisure Centre Job Fair\",\n",
        "       \"3\":\"Summer Job Fair\",\n",
        "       \"4\":\"GS Conservation\"\n",
        "   }\n",
        "```\n",
        "\n",
        "To update a value in a dictionary, use its key:  \n",
        "\n",
        "```\n",
        "notices[\"1\"] = \"Princes Trust Mentor Flyer\"\n",
        "notices[\"3\"] = \"Ramsgate Leisure Centre Job Fair\"\n",
        "```\n",
        "\n",
        "To add a new key/value pair to a dictionary, simply assign a value to a new key:  \n",
        "```\n",
        "notices[\"5\"] = \"Development Awards (cash grants)\"\n",
        "```\n",
        "\n",
        "The notices dictionary will now look like this:  \n",
        "```\n",
        "   notices = {\n",
        "       \"1\":\"Princes Trust Mentor Flyer\",\n",
        "       \"2\":\"Ramsgate Leisure Centre Job Fair\",\n",
        "       \"3\":\"Summer Job Fair\",\n",
        "       \"4\":\"GS Conservation\"\n",
        "       \"5\":\"Development Awards (cash grants)\"\n",
        "   }\n",
        "```\n",
        "\n"
      ]
    },
    {
      "cell_type": "markdown",
      "metadata": {
        "id": "1uZ5kNWB6CqK"
      },
      "source": [
        "---\n",
        "### Exercise 1 - print dictionary\n",
        "\n",
        "Write a function which will:  \n",
        "\n",
        "*  create an empty dictionary for a person signed up for the noticeboard app (name, email)\n",
        "*  ask the user for their name and email\n",
        "*  print the dictionary\n",
        "\n",
        "**Test input:**\n",
        "```\n",
        "Dee Thrussell\n",
        "dee@futurecoders.org.uk\n",
        "```\n",
        "**Expected output:**\n",
        "\n",
        "```\n",
        "{'name':'Dee Thrussell', 'email':'dee@futurecoders.org.uk'}\n",
        "```"
      ]
    },
    {
      "cell_type": "code",
      "metadata": {
        "id": "Ac7VQTj94Mrc",
        "colab": {
          "base_uri": "https://localhost:8080/"
        },
        "outputId": "b42d91ec-c91f-4484-acdd-247b0d81c507"
      },
      "source": [
        "def sign_up():\n",
        "  name=[]       # name\n",
        "  email=[]      # email address\n",
        "  name = input(\"Enter your name :\")\n",
        "  email = input(\"Enter email address :\")   \n",
        "\n",
        "  user = {\n",
        "  \"name\": name,\n",
        "  \"email\": email  \n",
        "  }\n",
        "  print(user)\n",
        "\n",
        "sign_up()"
      ],
      "execution_count": 83,
      "outputs": [
        {
          "output_type": "stream",
          "name": "stdout",
          "text": [
            "Enter your name :'Dee Thrussell\n",
            "Enter email address :dee@futurecoders.org.uk\n",
            "{'name': \"'Dee Thrussell\", 'email': 'dee@futurecoders.org.uk'}\n"
          ]
        }
      ]
    },
    {
      "cell_type": "markdown",
      "metadata": {
        "id": "0OtNqNKv7WKm"
      },
      "source": [
        "---\n",
        "### Exercise 2 - create a dictionary\n",
        "\n",
        "Write a function that will create two dictionaries,without values:  \n",
        "\n",
        "*  notice (with keys: id, notice title, location)  \n",
        "*  user (with key/value pairs: name (Dee Thrussell), email (dee@futurecoders.org.uk)\n",
        "*  ask the user to enter the values for the notice dictionary  \n",
        "*  print, on one line, the person's name from the user dictionary and the location from the notice dictionary e.g. name likes notices for Medway\n",
        "\n",
        "**Test input:**\n",
        "\n",
        "```\n",
        "notice_id = 1\n",
        "title = summer job fair\n",
        "location = Medway\n",
        "```\n",
        "\n",
        "**Expected output:**\n",
        "```\n",
        "Dee Thrussell likes notices for Medway\n",
        "```"
      ]
    },
    {
      "cell_type": "code",
      "metadata": {
        "id": "ZyqhaBCC-GdI",
        "colab": {
          "base_uri": "https://localhost:8080/"
        },
        "outputId": "61cc07e0-2974-4145-b96b-d499e3e7fad1"
      },
      "source": [
        "def two_dictionaries():\n",
        "\n",
        "  notice = dict() # Create notice blank dictionary\n",
        "  user = dict()   # Create user blank dictionary\n",
        "  \n",
        "  name = []\n",
        "  email  =[]\n",
        "  notice_id =0\n",
        "  title = []\n",
        "  location = []\n",
        "  email= []\n",
        "\n",
        "  name = input(\"Enter your name :\")\n",
        "  email = input(\"Enter email address :\") \n",
        "  notice_id = input(\"Enter notice id :\")\n",
        "  title = input(\"Enter title :\") \n",
        "  location = input(\"Enter location :\")\n",
        "\n",
        "  user = {\n",
        "  \"name\": name,\n",
        "  \"email\": email  \n",
        "  }\n",
        "  notice = {\n",
        "  \"id\" : notice_id,\n",
        "  \"notice_title\" : title,\n",
        "  \"location\" : location \n",
        "  }\n",
        "  print()\n",
        "  print(user[\"name\"] + \" likes notices for \" + notice[\"location\"])\n",
        "  print()\n",
        "  print(user)\n",
        "  print(notice)\n",
        "\n",
        "two_dictionaries()"
      ],
      "execution_count": 84,
      "outputs": [
        {
          "output_type": "stream",
          "name": "stdout",
          "text": [
            "Enter your name :Dee Thrussell\n",
            "Enter email address :dee@futurecoders.org.uk\n",
            "Enter notice id :1\n",
            "Enter title :summer job fair\n",
            "Enter location :Medway\n",
            "\n",
            "Dee Thrussell likes notices for Medway\n",
            "\n",
            "{'name': 'Dee Thrussell', 'email': 'dee@futurecoders.org.uk'}\n",
            "{'id': '1', 'notice_title': 'summer job fair', 'location': 'Medway'}\n"
          ]
        }
      ]
    },
    {
      "cell_type": "markdown",
      "metadata": {
        "id": "gYuuOUYw-G4I"
      },
      "source": [
        "---\n",
        "### Exercise 3 - check dictionary values\n",
        "\n",
        "Write a new function which will:\n",
        "\n",
        "*  set up the same two dictionaries as in Exercise 2  \n",
        "*  ask the user to enter their age to complete the person record  \n",
        "*  calculate the user's age  \n",
        "*  if the user is under 18 then print a message to say \"You are too young to use this app.\"\n",
        "*  else if the person is 18 or over, print a message to say \"notices for Medway are being displayed now\"\n",
        "*  ask the user to enter the location they want to see notices for\n",
        "*  if the user enters Medway print a message to say \"great we have notices for Medway\" otherwise there are not any notices for Medway at the moment.\n",
        "\n",
        "\n",
        "**Test input:**\n",
        "```\n",
        "notice_id = 1\n",
        "title = summer job fair\n",
        "location = Medway\n",
        "age = 18\n",
        "```\n",
        "\n",
        "**Expected output:**\n",
        "```\n",
        "notices for Medway are being displayed now\n",
        "```\n",
        "\n",
        "**Test input:**\n",
        "```\n",
        "notice_id = 1\n",
        "title = summer job fair\n",
        "location = Medway\n",
        "age = 16\n",
        "```\n",
        "\n",
        "**Expected output:**\n",
        "```\n",
        "You are too young to use this app.\n",
        "```\n"
      ]
    },
    {
      "cell_type": "code",
      "metadata": {
        "id": "Wp9Il2JG_hDh",
        "colab": {
          "base_uri": "https://localhost:8080/"
        },
        "outputId": "4ca5531a-0b99-49c0-e7c6-c00b2a203f33"
      },
      "source": [
        "def check_dictionary_values(user,notice):\n",
        "\n",
        "  opt = 0 # option \n",
        "  age = 0 # User age\n",
        "  title_input =[] # Title input\n",
        "  loop =bool()\n",
        "  age = input(\"Enter your age : \")\n",
        "  if int(age) < 18:  # Over 18\n",
        "    print(\"You are too young to use this app.\")\n",
        "  else:\n",
        "    print(notice[\"id\"]+ \" \" + notice[\"location\"])\n",
        "    while loop == False:\n",
        "      opt = input(\"Select option or  '0' to Exit: \")\n",
        "      if int(opt) > int(notice[\"id\"]):  # Invalid option\n",
        "        print(str(opt) +  \" invalid please enter a valid option\")  \n",
        "      elif int(opt) == 0:\n",
        "        loop = True\n",
        "      else:      \n",
        "        loop = False\n",
        "        opt = 0\n",
        "        print(\"Notices for \" + notice[\"location\"])\n",
        "        print(notice[\"id\"]+ \" \" + notice[\"notice_title\"])\n",
        "        while loop == False:\n",
        "          opt = input(\"Select option or  '0' to Exit: \")\n",
        "          if int(opt) == 0:\n",
        "            loop = True\n",
        "          elif int(opt) > int(notice[\"id\"]):  \n",
        "            print(str(opt) +  \" invalid please enter a valid option\")\n",
        "          else:\n",
        "            loop = True\n",
        "        # Proceesing for valid selection\n",
        "\n",
        "  print()\n",
        "  print(user)\n",
        "  print(notice)\n",
        "check_dictionary_values({'name': 'Dee Thrussell', 'email': 'dee@futurecoders.org.uk'},\n",
        "                       {'id': '1', 'notice_title': 'summer job fair', 'location': 'Medway'}) "
      ],
      "execution_count": null,
      "outputs": [
        {
          "output_type": "stream",
          "name": "stdout",
          "text": [
            "Enter your age : 18\n",
            "1 Medway\n",
            "Select option or  '0' to Exit: 1\n",
            "Notices for Medway\n",
            "1 summer job fair\n",
            "Select option or  '0' to Exit: 1\n",
            "\n",
            "{'name': 'Dee Thrussell', 'email': 'dee@futurecoders.org.uk'}\n",
            "{'id': '1', 'notice_title': 'summer job fair', 'location': 'Medway'}\n"
          ]
        }
      ]
    },
    {
      "cell_type": "markdown",
      "source": [
        "**NOTE**\n",
        "\n",
        "The following exercises are designed to develop your learning on dictionaries, and are not specific to the noticeboard app."
      ],
      "metadata": {
        "id": "tylfHZ7_OW9A"
      }
    },
    {
      "cell_type": "markdown",
      "metadata": {
        "id": "I6dUiRwn7Gkg"
      },
      "source": [
        "---\n",
        "### Exercise 4 - print keys and values\n",
        "\n",
        "Two dictionaries have been created below.  You can print a list of the dictionary's keys using `dictionary_name.keys()` and the values using `dictionary_name.values()`\n",
        "\n",
        "Write a function which will accept a dictionary as a parameter and will:  \n",
        "*  print the dictionary keys as a list   \n",
        "*  print the dictionary values as a list  \n",
        "\n",
        "*Hint*:  you will need to cast the keys as a list (`list(dictionary_name.keys()`)  and do the same for the values.\n",
        "\n",
        "**Expected Output**\n",
        "\n",
        "Input: English  \n",
        "Output: \n",
        "['Andy', 'Angela']  \n",
        "[95, 53]  \n",
        "\n",
        "Input: Maths  \n",
        "Output:  \n",
        "['Andy', 'Angela']  \n",
        "[58, 72] \n",
        " \n",
        "\n",
        "\n"
      ]
    },
    {
      "cell_type": "code",
      "metadata": {
        "id": "FApOckhJEsMs",
        "colab": {
          "base_uri": "https://localhost:8080/"
        },
        "outputId": "399963c3-2d8f-46ab-d9c2-e6b5fa7fce3a"
      },
      "source": [
        "def display_dictionary(scores):\n",
        "\n",
        "  english_scores = {'Andy': 95, 'Angela': 53}\n",
        "  maths_scores = {'Andy': 58, 'Angela': 72}\n",
        "  \n",
        "  if scores == (\"English\"):\n",
        "    print_scores =  english_scores.copy()\n",
        "  else:\n",
        "    print_scores =  maths_scores.copy()\n",
        "\n",
        "  print(\"Input: \" + scores)\n",
        "  print(\"Output\")\n",
        "  print(list(print_scores.keys()))\n",
        "  print(list(print_scores.values()))\n",
        "\n",
        "#display_dictionary(\"Maths\")\n",
        "display_dictionary(\"English\")"
      ],
      "execution_count": 95,
      "outputs": [
        {
          "output_type": "stream",
          "name": "stdout",
          "text": [
            "Input: English\n",
            "Output\n",
            "['Andy', 'Angela']\n",
            "[95, 53]\n"
          ]
        }
      ]
    },
    {
      "cell_type": "markdown",
      "metadata": {
        "id": "segSpkmBFSJl"
      },
      "source": [
        "---\n",
        "### Exercise 5 - add field\n",
        "\n",
        "Write a function which will:\n",
        "\n",
        "*  create a new dictionary called **science_scores** with values of 0 for both Andy and Angela\n",
        "*  update Andy's score for science to 73 and Angela's score to 73   \n",
        "*  create a new key/value pair by adding another learner to the `science_scores`  dictionary (George has a score of 55)    \n",
        "*  print the `science_scores` dictionary to check results  \n",
        "\n",
        "Expected Output\n",
        "\n",
        "{'Andy': 73, 'Angela': 73, 'George': 55}"
      ]
    },
    {
      "cell_type": "code",
      "metadata": {
        "id": "BL1JM-Z7Gttf",
        "colab": {
          "base_uri": "https://localhost:8080/"
        },
        "outputId": "bdc7730e-29b4-46b1-91df-ad66e1325ed4"
      },
      "source": [
        "def add_a_field():\n",
        "  science_scores= {}              # Create dictionary\n",
        "  science_scores= {               # Initalise dictionary \n",
        "    \"Andy\": \"0\",\n",
        "    \"Angela\" : \"0\"\n",
        "  }                              \n",
        "  print(science_scores)           # Display dictionary\n",
        "\n",
        "  science_scores[\"Andy\"] = \"73\"   # Update score\n",
        "  science_scores[\"Angela\"] = \"73\" # Update score\n",
        "  print(science_scores)           # Display dictionary\n",
        "  \n",
        "  science_scores.update({\"George\": \"55\"}) # Add George\n",
        "  print(science_scores)           # Display dictionary\n",
        "  \n",
        "add_a_field()"
      ],
      "execution_count": 96,
      "outputs": [
        {
          "output_type": "stream",
          "name": "stdout",
          "text": [
            "{'Andy': '0', 'Angela': '0'}\n",
            "{'Andy': '73', 'Angela': '73'}\n",
            "{'Andy': '73', 'Angela': '73', 'George': '55'}\n"
          ]
        }
      ]
    },
    {
      "cell_type": "markdown",
      "metadata": {
        "id": "_Vzv0zlHGt-C"
      },
      "source": [
        "---\n",
        "### Exercise 6 - loop through keys/value pairs\n",
        "\n",
        "Write a function which will use a *for* loop to print the each key/value pair in the science dictionary (recreate this dictionary in this function) \n",
        "\n",
        "*(Hint: you can iterate through the key/value pairs in the dictionary in the same way as you iterate through a loop (e.g. for record in dictionary) and print the record (which is the key) and its value)*\n",
        "\n",
        "Expected output:  \n",
        "\n",
        "Angela 72  \n",
        "Andy 72  \n",
        "George 55  "
      ]
    },
    {
      "cell_type": "code",
      "metadata": {
        "id": "JL40_-W-Hxnt",
        "colab": {
          "base_uri": "https://localhost:8080/"
        },
        "outputId": "0abfa45a-afa2-4ccb-c5a2-d19f0c2f8777"
      },
      "source": [
        "def loop_test():\n",
        "  x = 0\n",
        "  y = 0\n",
        "  science_scores= {\n",
        "    \"Andy\": \"72\",\n",
        "    \"Angela\" : \"72\",\n",
        "    \"George\": \"55\"\n",
        "    }\n",
        "  print(science_scores)                 # Display dictionary\n",
        "\n",
        "  for x in science_scores:\n",
        "    print(x  +\" \" + science_scores[x])  # Display dictionary\n",
        "\n",
        "loop_test()            "
      ],
      "execution_count": null,
      "outputs": [
        {
          "output_type": "stream",
          "name": "stdout",
          "text": [
            "{'Andy': '72', 'Angela': '72', 'George': '55'}\n",
            "Andy 72\n",
            "Angela 72\n",
            "George 55\n"
          ]
        }
      ]
    },
    {
      "cell_type": "markdown",
      "metadata": {
        "id": "G9wamxzRJdrE"
      },
      "source": [
        "---\n",
        "### Exercise 7 - generate new dictionary  \n",
        "\n",
        "Write a functions which will:\n",
        "*  create a new dictionary where the keys are numbers between 1 and 15 (both included) and the values are square of keys\n",
        "*  print the dictionary\n",
        "\n",
        "Expected output:  \n",
        "{1: 1, 2: 4, 3: 9, 4: 16, 5: 25, 6: 36, 7: 49, 8: 64, 9: 81, 10: 100, 11: 121, 12: 144, 13: 169, 14: 196, 15: 225}"
      ]
    },
    {
      "cell_type": "code",
      "metadata": {
        "id": "1-LI-LVrJ--N",
        "colab": {
          "base_uri": "https://localhost:8080/"
        },
        "outputId": "4f9e6b5e-1958-43a2-9f16-37caae2e0588"
      },
      "source": [
        "def square_table():\n",
        "\n",
        "  square_table = {}             # Define dictionary\n",
        "\n",
        "  x = 1                         # Initalise count\n",
        "  y = 0                         # Initalise square work field\n",
        "  while x <= 15:\n",
        "    y =  x**2\n",
        "    square_table.update({x: y}) # Add record\n",
        "    x = x + 1\n",
        "  x = 0\n",
        "  for x in square_table:\n",
        "    print(x ,square_table[x])  \n",
        "\n",
        "  print(square_table)           # Print dictonary\n",
        "\n",
        "square_table()\n"
      ],
      "execution_count": 68,
      "outputs": [
        {
          "output_type": "stream",
          "name": "stdout",
          "text": [
            "1 1\n",
            "2 4\n",
            "3 9\n",
            "4 16\n",
            "5 25\n",
            "6 36\n",
            "7 49\n",
            "8 64\n",
            "9 81\n",
            "10 100\n",
            "11 121\n",
            "12 144\n",
            "13 169\n",
            "14 196\n",
            "15 225\n",
            "{1: 1, 2: 4, 3: 9, 4: 16, 5: 25, 6: 36, 7: 49, 8: 64, 9: 81, 10: 100, 11: 121, 12: 144, 13: 169, 14: 196, 15: 225}\n"
          ]
        }
      ]
    },
    {
      "cell_type": "markdown",
      "metadata": {
        "id": "t0y4mefwJ_jQ"
      },
      "source": [
        "---\n",
        "### Exercise 8 - colour dictionary  \n",
        "\n",
        "Write a function which will:  \n",
        "*  create a new dictionary record called colour_codes with the values 'red' - '#FF0000', 'green' - '#008000', 'black' - '#000000', 'white' - '#FFFFFF'\n",
        "*  add a new colour code:  'blue' - '#0000FF'    \n",
        "*  remove the colours black and white from the dictionary  \n",
        "\n",
        "*Hint:  there is a list of methods [here](https://www.w3schools.com/python/python_ref_dictionary.asp)*  "
      ]
    },
    {
      "cell_type": "code",
      "metadata": {
        "id": "yod1mUNOMeWg",
        "colab": {
          "base_uri": "https://localhost:8080/"
        },
        "outputId": "ec785e00-11fd-4836-cc4b-249979b4fb17"
      },
      "source": [
        "def create_colour_codes():\n",
        "  colour_codes = {}                        # create dictionary\n",
        "  colour_codes= {                          # initalise dictionary \n",
        "     'red' : '#FF0000',\n",
        "     'green': '#008000',\n",
        "     'black' : '#000000' ,\n",
        "     'white' : '#FFFFFF'\n",
        "     }\n",
        "  print(colour_codes)\n",
        "  colour_codes.update({'blue': '#0000FF'}) # add blue\n",
        "  print(colour_codes)                                   \n",
        "\n",
        "  colour_codes.pop('black')                # remove black\n",
        "  colour_codes.pop('white')                # remove white\n",
        "  print(colour_codes)\n",
        "\n",
        "create_colour_codes()"
      ],
      "execution_count": 40,
      "outputs": [
        {
          "output_type": "stream",
          "name": "stdout",
          "text": [
            "{'red': '#FF0000', 'green': '#008000', 'black': '#000000', 'white': '#FFFFFF'}\n",
            "{'red': '#FF0000', 'green': '#008000', 'black': '#000000', 'white': '#FFFFFF', 'blue': '#0000FF'}\n",
            "{'red': '#FF0000', 'green': '#008000', 'blue': '#0000FF'}\n"
          ]
        }
      ]
    },
    {
      "cell_type": "markdown",
      "metadata": {
        "id": "gjos_0vuMeyS"
      },
      "source": [
        "---\n",
        "### Exercise 9 - item tuples  \n",
        "\n",
        "Write a function which will:  \n",
        "*  create a new dictionary containing the colour codes for red, green, blue, black and white\n",
        "*  print the key/value pairs of a dictionary as a list of tuples  \n",
        "\n",
        "*Hint:  iterate through colours.items()*"
      ]
    },
    {
      "cell_type": "code",
      "metadata": {
        "id": "EzuMkUypOKTY",
        "colab": {
          "base_uri": "https://localhost:8080/"
        },
        "outputId": "2d6292af-26d0-46d2-f564-968428745dab"
      },
      "source": [
        "def get_item_tuples():\n",
        "  colour_codes = {}                        # create dictionary\n",
        "  colour_codes = {                         # initalise dictionary \n",
        "     'red' : '#FF0000',\n",
        "     'green': '#008000',\n",
        "     'blue': '#0000FF',\n",
        "     'black' : '#000000',\n",
        "     'white' : '#FFFFFF'\n",
        "     }\n",
        "\n",
        "  for x in colour_codes:\n",
        "    print(x  +\" \" + colour_codes[x]) \n",
        "\n",
        "  print(colour_codes)\n",
        "\n",
        "get_item_tuples()"
      ],
      "execution_count": 61,
      "outputs": [
        {
          "output_type": "stream",
          "name": "stdout",
          "text": [
            "red #FF0000\n",
            "green #008000\n",
            "blue #0000FF\n",
            "black #000000\n",
            "white #FFFFFF\n",
            "{'red': '#FF0000', 'green': '#008000', 'blue': '#0000FF', 'black': '#000000', 'white': '#FFFFFF'}\n"
          ]
        }
      ]
    },
    {
      "cell_type": "markdown",
      "metadata": {
        "id": "Jw1ot10cOc6r"
      },
      "source": [
        "---\n",
        "### Exercise 10 - check if empty\n",
        "Taken from w3resouce.com  \n",
        "\n",
        "Write a function which will check if a dictionary is empty or not\n",
        "\n",
        "*Hint:  you can use bool(dictionary_name), if the dictionary is empty then bool(dictionary_name will be false)*\n",
        "\n",
        "Test 1 sample data:\n",
        "{}\n",
        "\n",
        "Expected output:\n",
        "Dictionary is empty  \n",
        "\n",
        "Test 2 sample data:  \n",
        "{\"name\":\"Groucho\", \"occupation\":\"comedian\"}\n",
        "\n",
        "Expected output:  \n",
        "Dictionary is not empty"
      ]
    },
    {
      "cell_type": "code",
      "metadata": {
        "id": "7UdM1TfwRqnt",
        "colab": {
          "base_uri": "https://localhost:8080/"
        },
        "outputId": "77b90c5e-396c-4427-dc02-93028a3e740d"
      },
      "source": [
        "def check_dictionary_blank(data):\n",
        "  comedians = data                    # Create dictionary \n",
        "  print(comedians)                    # Print dictionary\n",
        " \n",
        "  if bool(comedians) == True:\n",
        "    print(\"Dictionary is not empty\")\n",
        "  else:\n",
        "    print(\"Dictionary is empty\")\n",
        "\n",
        "#check_dictionary_blank({})\n",
        "check_dictionary_blank({\"name\":\"Groucho\", \"occupation\":\"comedian\"})"
      ],
      "execution_count": 82,
      "outputs": [
        {
          "output_type": "stream",
          "name": "stdout",
          "text": [
            "{'name': 'Groucho', 'occupation': 'comedian'}\n",
            "Dictionary is not empty\n"
          ]
        }
      ]
    }
  ]
}